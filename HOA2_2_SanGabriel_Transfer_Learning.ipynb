{
 "cells": [
  {
   "cell_type": "markdown",
   "id": "annual-sandwich",
   "metadata": {},
   "source": [
    "# Activity 2.2 - Transfer Learning "
   ]
  },
  {
   "cell_type": "markdown",
   "id": "great-fireplace",
   "metadata": {},
   "source": [
    "#### Objective(s):\n",
    "\n",
    "This activity aims to introduce how to apply transfer learning "
   ]
  },
  {
   "cell_type": "markdown",
   "id": "subjective-elimination",
   "metadata": {},
   "source": [
    "#### Intended Learning Outcomes (ILOs):\n",
    "* Demonstrate how to build and train neural network \n",
    "* Demonstrate how to apply transfer learning in neural network\n"
   ]
  },
  {
   "cell_type": "markdown",
   "id": "simplified-azerbaijan",
   "metadata": {},
   "source": [
    "#### Resources:\n",
    "* Jupyter Notebook\n",
    "* CIFAR-10 dataset"
   ]
  },
  {
   "cell_type": "markdown",
   "id": "ordinary-crime",
   "metadata": {},
   "source": [
    "#### Procedures\n",
    "Load the necessary libraries"
   ]
  },
  {
   "cell_type": "code",
   "execution_count": 10,
   "id": "comic-joining",
   "metadata": {},
   "outputs": [],
   "source": [
    "from __future__ import print_function\n",
    "\n",
    "import datetime\n",
    "import tensorflow\n",
    "\n",
    "from tensorflow.keras.datasets import mnist\n",
    "from tensorflow.keras.models import Sequential\n",
    "from tensorflow.keras.layers import Dense, Dropout, Activation, Flatten\n",
    "from tensorflow.keras.layers import Conv2D, MaxPooling2D\n",
    "from tensorflow.keras import backend as K"
   ]
  },
  {
   "cell_type": "markdown",
   "id": "moral-chair",
   "metadata": {},
   "source": [
    "Set the parameters"
   ]
  },
  {
   "cell_type": "code",
   "execution_count": 11,
   "id": "sticky-metallic",
   "metadata": {},
   "outputs": [],
   "source": [
    "now = datetime.datetime.now\n",
    "batch_size = 128\n",
    "num_classes = 5\n",
    "epochs = 5\n",
    "img_rows, img_cols = 28, 28\n",
    "filters = 32\n",
    "pool_size = 2\n",
    "kernel_size = 3"
   ]
  },
  {
   "cell_type": "markdown",
   "id": "resident-activity",
   "metadata": {},
   "source": [
    "Set how the input data is loaded"
   ]
  },
  {
   "cell_type": "code",
   "execution_count": 12,
   "id": "measured-queens",
   "metadata": {},
   "outputs": [],
   "source": [
    "\n",
    "if K.image_data_format() == 'channels_first':\n",
    "    input_shape = (1, img_rows, img_cols)\n",
    "else:\n",
    "    input_shape = (img_rows, img_cols, 1)"
   ]
  },
  {
   "cell_type": "markdown",
   "id": "jewish-russell",
   "metadata": {},
   "source": [
    "* Write a function to include all the training steps. \n",
    "* Use the model, training set, test set and number of classes as function parameters\n"
   ]
  },
  {
   "cell_type": "code",
   "execution_count": 13,
   "id": "julian-batch",
   "metadata": {},
   "outputs": [],
   "source": [
    "def train_model(model, train, test, num_classes):\n",
    "    x_train = train[0].reshape((train[0].shape[0],) + input_shape)\n",
    "    x_test = test[0].reshape((test[0].shape[0],) + input_shape)\n",
    "    x_train = x_train.astype('float32')\n",
    "    x_test = x_test.astype('float32')\n",
    "    x_train /= 255\n",
    "    x_test /= 255\n",
    "    print('x_train shape:', x_train.shape)\n",
    "    print(x_train.shape[0], 'train samples')\n",
    "    print(x_test.shape[0], 'test samples')\n",
    "\n",
    "    # convert class vectors to binary class matrices\n",
    "    y_train = tensorflow.keras.utils.to_categorical(train[1], num_classes)\n",
    "    y_test = tensorflow.keras.utils.to_categorical(test[1], num_classes)\n",
    "\n",
    "    model.compile(loss='categorical_crossentropy',\n",
    "                  optimizer='adadelta',\n",
    "                  metrics=['accuracy'])\n",
    "\n",
    "    t = now()\n",
    "    model.fit(x_train, y_train,\n",
    "              batch_size=batch_size,\n",
    "              epochs=epochs,\n",
    "              verbose=1,\n",
    "              validation_data=(x_test, y_test))\n",
    "    print('Training time: %s' % (now() - t))\n",
    "\n",
    "    score = model.evaluate(x_test, y_test, verbose=0)\n",
    "    print('Test score:', score[0])\n",
    "    print('Test accuracy:', score[1])"
   ]
  },
  {
   "cell_type": "markdown",
   "id": "monetary-final",
   "metadata": {},
   "source": [
    "Shuffle and split the data between train and test sets"
   ]
  },
  {
   "cell_type": "code",
   "execution_count": 14,
   "id": "hollywood-amendment",
   "metadata": {},
   "outputs": [],
   "source": [
    "\n",
    "(x_train, y_train), (x_test, y_test) = mnist.load_data()\n",
    "\n"
   ]
  },
  {
   "cell_type": "markdown",
   "id": "committed-bench",
   "metadata": {},
   "source": [
    "Create two datasets \n",
    "* one with digits below 5\n",
    "* one with 5 and above"
   ]
  },
  {
   "cell_type": "code",
   "execution_count": 15,
   "id": "lesser-bradley",
   "metadata": {},
   "outputs": [],
   "source": [
    "x_train_lt5 = x_train[y_train < 5]\n",
    "y_train_lt5 = y_train[y_train < 5]\n",
    "x_test_lt5 = x_test[y_test < 5]\n",
    "y_test_lt5 = y_test[y_test < 5]\n",
    "\n",
    "x_train_gte5 = x_train[y_train >= 5]\n",
    "y_train_gte5 = y_train[y_train >= 5] - 5\n",
    "x_test_gte5 = x_test[y_test >= 5]\n",
    "y_test_gte5 = y_test[y_test >= 5] - 5"
   ]
  },
  {
   "cell_type": "markdown",
   "id": "talented-scheme",
   "metadata": {},
   "source": [
    "* Define the feature layers that will used for transfer learning\n",
    "* Freeze these layers during fine-tuning process"
   ]
  },
  {
   "cell_type": "code",
   "execution_count": 16,
   "id": "ranging-neutral",
   "metadata": {},
   "outputs": [],
   "source": [
    "\n",
    "feature_layers = [\n",
    "    Conv2D(filters, kernel_size,\n",
    "           padding='valid',\n",
    "           input_shape=input_shape),\n",
    "    Activation('relu'),\n",
    "    Conv2D(filters, kernel_size),\n",
    "    Activation('relu'),\n",
    "    MaxPooling2D(pool_size=pool_size),\n",
    "    Dropout(0.25),\n",
    "    Flatten(),\n",
    "]"
   ]
  },
  {
   "cell_type": "markdown",
   "id": "bulgarian-accuracy",
   "metadata": {},
   "source": [
    "Define the classification layers"
   ]
  },
  {
   "cell_type": "code",
   "execution_count": 17,
   "id": "religious-timer",
   "metadata": {},
   "outputs": [],
   "source": [
    "\n",
    "classification_layers = [\n",
    "    Dense(128),\n",
    "    Activation('relu'),\n",
    "    Dropout(0.5),\n",
    "    Dense(num_classes),\n",
    "    Activation('softmax')\n",
    "]"
   ]
  },
  {
   "cell_type": "markdown",
   "id": "yellow-puzzle",
   "metadata": {},
   "source": [
    "Create a model by combining the feature layers and classification layers"
   ]
  },
  {
   "cell_type": "code",
   "execution_count": 18,
   "id": "governmental-portable",
   "metadata": {},
   "outputs": [],
   "source": [
    "\n",
    "model = Sequential(feature_layers + classification_layers)"
   ]
  },
  {
   "cell_type": "markdown",
   "id": "noticed-dairy",
   "metadata": {},
   "source": [
    "Check the model summary"
   ]
  },
  {
   "cell_type": "code",
   "execution_count": 19,
   "id": "correct-syria",
   "metadata": {},
   "outputs": [
    {
     "name": "stdout",
     "output_type": "stream",
     "text": [
      "Model: \"sequential_1\"\n",
      "_________________________________________________________________\n",
      "Layer (type)                 Output Shape              Param #   \n",
      "=================================================================\n",
      "conv2d_2 (Conv2D)            (None, 26, 26, 32)        320       \n",
      "_________________________________________________________________\n",
      "activation_4 (Activation)    (None, 26, 26, 32)        0         \n",
      "_________________________________________________________________\n",
      "conv2d_3 (Conv2D)            (None, 24, 24, 32)        9248      \n",
      "_________________________________________________________________\n",
      "activation_5 (Activation)    (None, 24, 24, 32)        0         \n",
      "_________________________________________________________________\n",
      "max_pooling2d_1 (MaxPooling2 (None, 12, 12, 32)        0         \n",
      "_________________________________________________________________\n",
      "dropout_2 (Dropout)          (None, 12, 12, 32)        0         \n",
      "_________________________________________________________________\n",
      "flatten_1 (Flatten)          (None, 4608)              0         \n",
      "_________________________________________________________________\n",
      "dense_2 (Dense)              (None, 128)               589952    \n",
      "_________________________________________________________________\n",
      "activation_6 (Activation)    (None, 128)               0         \n",
      "_________________________________________________________________\n",
      "dropout_3 (Dropout)          (None, 128)               0         \n",
      "_________________________________________________________________\n",
      "dense_3 (Dense)              (None, 5)                 645       \n",
      "_________________________________________________________________\n",
      "activation_7 (Activation)    (None, 5)                 0         \n",
      "=================================================================\n",
      "Total params: 600,165\n",
      "Trainable params: 600,165\n",
      "Non-trainable params: 0\n",
      "_________________________________________________________________\n"
     ]
    }
   ],
   "source": [
    "\n",
    "model.summary()"
   ]
  },
  {
   "cell_type": "markdown",
   "id": "productive-regular",
   "metadata": {},
   "source": [
    " Train the  model on the digits 5,6,7,8,9"
   ]
  },
  {
   "cell_type": "code",
   "execution_count": 20,
   "id": "distinct-ticket",
   "metadata": {},
   "outputs": [
    {
     "name": "stdout",
     "output_type": "stream",
     "text": [
      "x_train shape: (29404, 28, 28, 1)\n",
      "29404 train samples\n",
      "4861 test samples\n",
      "Train on 29404 samples, validate on 4861 samples\n",
      "Epoch 1/5\n",
      "29404/29404 [==============================] - 1s 36us/sample - loss: 1.6047 - acc: 0.2254 - val_loss: 1.5891 - val_acc: 0.2726\n",
      "Epoch 2/5\n",
      "29404/29404 [==============================] - 1s 30us/sample - loss: 1.5835 - acc: 0.2779 - val_loss: 1.5654 - val_acc: 0.4016\n",
      "Epoch 3/5\n",
      "29404/29404 [==============================] - 1s 30us/sample - loss: 1.5624 - acc: 0.3344 - val_loss: 1.5394 - val_acc: 0.5063\n",
      "Epoch 4/5\n",
      "29404/29404 [==============================] - 1s 32us/sample - loss: 1.5379 - acc: 0.3993 - val_loss: 1.5105 - val_acc: 0.5690\n",
      "Epoch 5/5\n",
      "29404/29404 [==============================] - 1s 31us/sample - loss: 1.5118 - acc: 0.4564 - val_loss: 1.4786 - val_acc: 0.6170\n",
      "Training time: 0:00:05.171704\n",
      "Test score: 1.4785524483105696\n",
      "Test accuracy: 0.6169512\n"
     ]
    }
   ],
   "source": [
    "train_model(model,\n",
    "            (x_train_gte5, y_train_gte5),\n",
    "            (x_test_gte5, y_test_gte5), num_classes)"
   ]
  },
  {
   "cell_type": "markdown",
   "id": "racial-emission",
   "metadata": {},
   "source": [
    "Freeze only the feature layers"
   ]
  },
  {
   "cell_type": "code",
   "execution_count": 21,
   "id": "violent-territory",
   "metadata": {},
   "outputs": [],
   "source": [
    "\n",
    "for l in feature_layers:\n",
    "    l.trainable = False"
   ]
  },
  {
   "cell_type": "markdown",
   "id": "continuous-injection",
   "metadata": {},
   "source": [
    "Check again the summary and observe the parameters from the previous model"
   ]
  },
  {
   "cell_type": "code",
   "execution_count": 22,
   "id": "sunset-manhattan",
   "metadata": {},
   "outputs": [
    {
     "name": "stdout",
     "output_type": "stream",
     "text": [
      "Model: \"sequential_1\"\n",
      "_________________________________________________________________\n",
      "Layer (type)                 Output Shape              Param #   \n",
      "=================================================================\n",
      "conv2d_2 (Conv2D)            (None, 26, 26, 32)        320       \n",
      "_________________________________________________________________\n",
      "activation_4 (Activation)    (None, 26, 26, 32)        0         \n",
      "_________________________________________________________________\n",
      "conv2d_3 (Conv2D)            (None, 24, 24, 32)        9248      \n",
      "_________________________________________________________________\n",
      "activation_5 (Activation)    (None, 24, 24, 32)        0         \n",
      "_________________________________________________________________\n",
      "max_pooling2d_1 (MaxPooling2 (None, 12, 12, 32)        0         \n",
      "_________________________________________________________________\n",
      "dropout_2 (Dropout)          (None, 12, 12, 32)        0         \n",
      "_________________________________________________________________\n",
      "flatten_1 (Flatten)          (None, 4608)              0         \n",
      "_________________________________________________________________\n",
      "dense_2 (Dense)              (None, 128)               589952    \n",
      "_________________________________________________________________\n",
      "activation_6 (Activation)    (None, 128)               0         \n",
      "_________________________________________________________________\n",
      "dropout_3 (Dropout)          (None, 128)               0         \n",
      "_________________________________________________________________\n",
      "dense_3 (Dense)              (None, 5)                 645       \n",
      "_________________________________________________________________\n",
      "activation_7 (Activation)    (None, 5)                 0         \n",
      "=================================================================\n",
      "WARNING:tensorflow:Discrepancy between trainable weights and collected trainable weights, did you set `model.trainable` without calling `model.compile` after ?\n",
      "Total params: 609,733\n",
      "Trainable params: 600,165\n",
      "Non-trainable params: 9,568\n",
      "_________________________________________________________________\n"
     ]
    }
   ],
   "source": [
    "model.summary()"
   ]
  },
  {
   "cell_type": "markdown",
   "id": "modern-carnival",
   "metadata": {},
   "source": [
    "Train again the model using the 0 to 4 digits"
   ]
  },
  {
   "cell_type": "code",
   "execution_count": 23,
   "id": "comprehensive-nurse",
   "metadata": {},
   "outputs": [
    {
     "name": "stdout",
     "output_type": "stream",
     "text": [
      "x_train shape: (30596, 28, 28, 1)\n",
      "30596 train samples\n",
      "5139 test samples\n",
      "Train on 30596 samples, validate on 5139 samples\n",
      "Epoch 1/5\n",
      "30596/30596 [==============================] - 1s 25us/sample - loss: 1.5741 - acc: 0.3180 - val_loss: 1.5480 - val_acc: 0.3898\n",
      "Epoch 2/5\n",
      "30596/30596 [==============================] - 1s 23us/sample - loss: 1.5420 - acc: 0.3789 - val_loss: 1.5118 - val_acc: 0.4682\n",
      "Epoch 3/5\n",
      "30596/30596 [==============================] - 1s 25us/sample - loss: 1.5073 - acc: 0.4554 - val_loss: 1.4762 - val_acc: 0.6174\n",
      "Epoch 4/5\n",
      "30596/30596 [==============================] - 1s 21us/sample - loss: 1.4756 - acc: 0.5201 - val_loss: 1.4410 - val_acc: 0.7373\n",
      "Epoch 5/5\n",
      "30596/30596 [==============================] - 1s 22us/sample - loss: 1.4421 - acc: 0.5842 - val_loss: 1.4058 - val_acc: 0.8046\n",
      "Training time: 0:00:03.756417\n",
      "Test score: 1.4057998115113097\n",
      "Test accuracy: 0.8046313\n"
     ]
    }
   ],
   "source": [
    "train_model(model,\n",
    "            (x_train_lt5, y_train_lt5),\n",
    "            (x_test_lt5, y_test_lt5), num_classes)"
   ]
  },
  {
   "cell_type": "markdown",
   "id": "numerical-integer",
   "metadata": {},
   "source": [
    "#### Supplementary Activity\n",
    "Now write code to reverse this training process. That is, you will train on the digits 0-4, and then finetune only the last layers on the digits 5-9."
   ]
  },
  {
   "cell_type": "code",
   "execution_count": 24,
   "id": "registered-venice",
   "metadata": {},
   "outputs": [
    {
     "name": "stdout",
     "output_type": "stream",
     "text": [
      "Model: \"sequential_2\"\n",
      "_________________________________________________________________\n",
      "Layer (type)                 Output Shape              Param #   \n",
      "=================================================================\n",
      "conv2d_2 (Conv2D)            (None, 26, 26, 32)        320       \n",
      "_________________________________________________________________\n",
      "activation_4 (Activation)    (None, 26, 26, 32)        0         \n",
      "_________________________________________________________________\n",
      "conv2d_3 (Conv2D)            (None, 24, 24, 32)        9248      \n",
      "_________________________________________________________________\n",
      "activation_5 (Activation)    (None, 24, 24, 32)        0         \n",
      "_________________________________________________________________\n",
      "max_pooling2d_1 (MaxPooling2 (None, 12, 12, 32)        0         \n",
      "_________________________________________________________________\n",
      "dropout_2 (Dropout)          (None, 12, 12, 32)        0         \n",
      "_________________________________________________________________\n",
      "flatten_1 (Flatten)          (None, 4608)              0         \n",
      "_________________________________________________________________\n",
      "dense_2 (Dense)              (None, 128)               589952    \n",
      "_________________________________________________________________\n",
      "activation_6 (Activation)    (None, 128)               0         \n",
      "_________________________________________________________________\n",
      "dropout_3 (Dropout)          (None, 128)               0         \n",
      "_________________________________________________________________\n",
      "dense_3 (Dense)              (None, 5)                 645       \n",
      "_________________________________________________________________\n",
      "activation_7 (Activation)    (None, 5)                 0         \n",
      "=================================================================\n",
      "Total params: 600,165\n",
      "Trainable params: 590,597\n",
      "Non-trainable params: 9,568\n",
      "_________________________________________________________________\n"
     ]
    }
   ],
   "source": [
    "### Reverse model that trains on 0-4 then finetune on 5-9\n",
    "model_reverse = Sequential(feature_layers + classification_layers)\n",
    "model_reverse.summary()"
   ]
  },
  {
   "cell_type": "code",
   "execution_count": 25,
   "id": "f1e6db81",
   "metadata": {},
   "outputs": [
    {
     "name": "stdout",
     "output_type": "stream",
     "text": [
      "x_train shape: (30596, 28, 28, 1)\n",
      "30596 train samples\n",
      "5139 test samples\n",
      "Train on 30596 samples, validate on 5139 samples\n",
      "Epoch 1/5\n",
      "30596/30596 [==============================] - 1s 28us/sample - loss: 1.4105 - acc: 0.6384 - val_loss: 1.3723 - val_acc: 0.8418\n",
      "Epoch 2/5\n",
      "30596/30596 [==============================] - 1s 22us/sample - loss: 1.3785 - acc: 0.6869 - val_loss: 1.3387 - val_acc: 0.8599\n",
      "Epoch 3/5\n",
      "30596/30596 [==============================] - 1s 26us/sample - loss: 1.3454 - acc: 0.7231 - val_loss: 1.3050 - val_acc: 0.8723\n",
      "Epoch 4/5\n",
      "30596/30596 [==============================] - 1s 24us/sample - loss: 1.3149 - acc: 0.7481 - val_loss: 1.2711 - val_acc: 0.8827\n",
      "Epoch 5/5\n",
      "30596/30596 [==============================] - 1s 22us/sample - loss: 1.2829 - acc: 0.7759 - val_loss: 1.2375 - val_acc: 0.8899\n",
      "Training time: 0:00:04.022838\n",
      "Test score: 1.2374604431704617\n",
      "Test accuracy: 0.8898619\n"
     ]
    }
   ],
   "source": [
    "## Train on numbers 0-4\n",
    "train_model(model_reverse,\n",
    "            (x_train_lt5, y_train_lt5),\n",
    "            (x_test_lt5, y_test_lt5), num_classes)"
   ]
  },
  {
   "cell_type": "code",
   "execution_count": 26,
   "id": "c89beb2c",
   "metadata": {},
   "outputs": [
    {
     "name": "stdout",
     "output_type": "stream",
     "text": [
      "Model: \"sequential_2\"\n",
      "_________________________________________________________________\n",
      "Layer (type)                 Output Shape              Param #   \n",
      "=================================================================\n",
      "conv2d_2 (Conv2D)            (None, 26, 26, 32)        320       \n",
      "_________________________________________________________________\n",
      "activation_4 (Activation)    (None, 26, 26, 32)        0         \n",
      "_________________________________________________________________\n",
      "conv2d_3 (Conv2D)            (None, 24, 24, 32)        9248      \n",
      "_________________________________________________________________\n",
      "activation_5 (Activation)    (None, 24, 24, 32)        0         \n",
      "_________________________________________________________________\n",
      "max_pooling2d_1 (MaxPooling2 (None, 12, 12, 32)        0         \n",
      "_________________________________________________________________\n",
      "dropout_2 (Dropout)          (None, 12, 12, 32)        0         \n",
      "_________________________________________________________________\n",
      "flatten_1 (Flatten)          (None, 4608)              0         \n",
      "_________________________________________________________________\n",
      "dense_2 (Dense)              (None, 128)               589952    \n",
      "_________________________________________________________________\n",
      "activation_6 (Activation)    (None, 128)               0         \n",
      "_________________________________________________________________\n",
      "dropout_3 (Dropout)          (None, 128)               0         \n",
      "_________________________________________________________________\n",
      "dense_3 (Dense)              (None, 5)                 645       \n",
      "_________________________________________________________________\n",
      "activation_7 (Activation)    (None, 5)                 0         \n",
      "=================================================================\n",
      "Total params: 600,165\n",
      "Trainable params: 590,597\n",
      "Non-trainable params: 9,568\n",
      "_________________________________________________________________\n"
     ]
    }
   ],
   "source": [
    "for l in feature_layers:\n",
    "    l.trainable = False\n",
    "    \n",
    "model_reverse.summary()"
   ]
  },
  {
   "cell_type": "code",
   "execution_count": 27,
   "id": "be4ace04",
   "metadata": {},
   "outputs": [
    {
     "name": "stdout",
     "output_type": "stream",
     "text": [
      "x_train shape: (29404, 28, 28, 1)\n",
      "29404 train samples\n",
      "4861 test samples\n",
      "Train on 29404 samples, validate on 4861 samples\n",
      "Epoch 1/5\n",
      "29404/29404 [==============================] - 1s 32us/sample - loss: 1.4602 - acc: 0.4263 - val_loss: 1.4274 - val_acc: 0.4913\n",
      "Epoch 2/5\n",
      "29404/29404 [==============================] - 1s 22us/sample - loss: 1.4309 - acc: 0.4694 - val_loss: 1.3962 - val_acc: 0.5600\n",
      "Epoch 3/5\n",
      "29404/29404 [==============================] - 1s 21us/sample - loss: 1.4017 - acc: 0.5144 - val_loss: 1.3661 - val_acc: 0.6124\n",
      "Epoch 4/5\n",
      "29404/29404 [==============================] - 1s 21us/sample - loss: 1.3755 - acc: 0.5548 - val_loss: 1.3372 - val_acc: 0.6579\n",
      "Epoch 5/5\n",
      "29404/29404 [==============================] - 1s 22us/sample - loss: 1.3488 - acc: 0.5851 - val_loss: 1.3095 - val_acc: 0.6861\n",
      "Training time: 0:00:03.651321\n",
      "Test score: 1.309515796480687\n",
      "Test accuracy: 0.6860728\n"
     ]
    }
   ],
   "source": [
    "train_model(model_reverse,\n",
    "            (x_train_gte5, y_train_gte5),\n",
    "            (x_test_gte5, y_test_gte5), num_classes)"
   ]
  },
  {
   "cell_type": "code",
   "execution_count": null,
   "id": "6ab5009e",
   "metadata": {},
   "outputs": [],
   "source": []
  },
  {
   "cell_type": "markdown",
   "id": "cardiovascular-sapphire",
   "metadata": {},
   "source": [
    "#### Conclusion"
   ]
  },
  {
   "cell_type": "markdown",
   "id": "conditional-prerequisite",
   "metadata": {},
   "source": [
    "#type your answer here"
   ]
  },
  {
   "cell_type": "code",
   "execution_count": null,
   "id": "sacred-silence",
   "metadata": {},
   "outputs": [],
   "source": []
  }
 ],
 "metadata": {
  "kernelspec": {
   "display_name": "Python 3",
   "language": "python",
   "name": "python3"
  },
  "language_info": {
   "codemirror_mode": {
    "name": "ipython",
    "version": 3
   },
   "file_extension": ".py",
   "mimetype": "text/x-python",
   "name": "python",
   "nbconvert_exporter": "python",
   "pygments_lexer": "ipython3",
   "version": "3.6.13"
  }
 },
 "nbformat": 4,
 "nbformat_minor": 5
}
