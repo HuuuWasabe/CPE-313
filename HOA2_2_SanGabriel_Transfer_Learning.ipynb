{
  "cells": [
    {
      "cell_type": "markdown",
      "id": "annual-sandwich",
      "metadata": {
        "id": "annual-sandwich"
      },
      "source": [
        "# Activity 2.2 - Transfer Learning"
      ]
    },
    {
      "cell_type": "markdown",
      "id": "great-fireplace",
      "metadata": {
        "id": "great-fireplace"
      },
      "source": [
        "#### Objective(s):\n",
        "\n",
        "This activity aims to introduce how to apply transfer learning"
      ]
    },
    {
      "cell_type": "markdown",
      "id": "subjective-elimination",
      "metadata": {
        "id": "subjective-elimination"
      },
      "source": [
        "#### Intended Learning Outcomes (ILOs):\n",
        "* Demonstrate how to build and train neural network\n",
        "* Demonstrate how to apply transfer learning in neural network\n"
      ]
    },
    {
      "cell_type": "markdown",
      "id": "simplified-azerbaijan",
      "metadata": {
        "id": "simplified-azerbaijan"
      },
      "source": [
        "#### Resources:\n",
        "* Jupyter Notebook\n",
        "* CIFAR-10 dataset"
      ]
    },
    {
      "cell_type": "markdown",
      "id": "ordinary-crime",
      "metadata": {
        "id": "ordinary-crime"
      },
      "source": [
        "#### Procedures\n",
        "Load the necessary libraries"
      ]
    },
    {
      "cell_type": "code",
      "execution_count": null,
      "id": "comic-joining",
      "metadata": {
        "id": "comic-joining"
      },
      "outputs": [],
      "source": [
        "from __future__ import print_function\n",
        "\n",
        "import datetime\n",
        "from tensorflow import keras\n",
        "\n",
        "from keras.datasets import mnist\n",
        "from keras.models import Sequential\n",
        "from keras.layers import Dense, Dropout, Activation, Flatten\n",
        "from keras.layers import Conv2D, MaxPooling2D\n",
        "from keras import backend as K"
      ]
    },
    {
      "cell_type": "markdown",
      "id": "moral-chair",
      "metadata": {
        "id": "moral-chair"
      },
      "source": [
        "Set the parameters"
      ]
    },
    {
      "cell_type": "code",
      "execution_count": null,
      "id": "sticky-metallic",
      "metadata": {
        "id": "sticky-metallic"
      },
      "outputs": [],
      "source": [
        "now = datetime.datetime.now\n",
        "batch_size = 128\n",
        "num_classes = 5\n",
        "epochs = 5\n",
        "img_rows, img_cols = 28, 28\n",
        "filters = 32\n",
        "pool_size = 2\n",
        "kernel_size = 3"
      ]
    },
    {
      "cell_type": "markdown",
      "id": "resident-activity",
      "metadata": {
        "id": "resident-activity"
      },
      "source": [
        "Set how the input data is loaded"
      ]
    },
    {
      "cell_type": "code",
      "execution_count": null,
      "id": "measured-queens",
      "metadata": {
        "id": "measured-queens"
      },
      "outputs": [],
      "source": [
        "\n",
        "if K.image_data_format() == 'channels_first':\n",
        "    input_shape = (1, img_rows, img_cols)\n",
        "else:\n",
        "    input_shape = (img_rows, img_cols, 1)"
      ]
    },
    {
      "cell_type": "markdown",
      "id": "jewish-russell",
      "metadata": {
        "id": "jewish-russell"
      },
      "source": [
        "* Write a function to include all the training steps.\n",
        "* Use the model, training set, test set and number of classes as function parameters\n"
      ]
    },
    {
      "cell_type": "code",
      "execution_count": null,
      "id": "julian-batch",
      "metadata": {
        "id": "julian-batch"
      },
      "outputs": [],
      "source": [
        "def train_model(model, train, test, num_classes):\n",
        "    x_train = train[0].reshape((train[0].shape[0],) + input_shape)\n",
        "    x_test = test[0].reshape((test[0].shape[0],) + input_shape)\n",
        "    x_train = x_train.astype('float32')\n",
        "    x_test = x_test.astype('float32')\n",
        "    x_train /= 255\n",
        "    x_test /= 255\n",
        "    print('x_train shape:', x_train.shape)\n",
        "    print(x_train.shape[0], 'train samples')\n",
        "    print(x_test.shape[0], 'test samples')\n",
        "\n",
        "    # convert class vectors to binary class matrices\n",
        "    y_train = keras.utils.to_categorical(train[1], num_classes)\n",
        "    y_test = keras.utils.to_categorical(test[1], num_classes)\n",
        "\n",
        "    model.compile(loss='categorical_crossentropy',\n",
        "                  optimizer='adadelta',\n",
        "                  metrics=['accuracy'])\n",
        "\n",
        "    t = now()\n",
        "    model.fit(x_train, y_train,\n",
        "              batch_size=batch_size,\n",
        "              epochs=epochs,\n",
        "              verbose=1,\n",
        "              validation_data=(x_test, y_test))\n",
        "    print('Training time: %s' % (now() - t))\n",
        "\n",
        "    score = model.evaluate(x_test, y_test, verbose=0)\n",
        "    print('Test score:', score[0])\n",
        "    print('Test accuracy:', score[1])"
      ]
    },
    {
      "cell_type": "markdown",
      "id": "monetary-final",
      "metadata": {
        "id": "monetary-final"
      },
      "source": [
        "Shuffle and split the data between train and test sets"
      ]
    },
    {
      "cell_type": "code",
      "execution_count": null,
      "id": "hollywood-amendment",
      "metadata": {
        "id": "hollywood-amendment",
        "colab": {
          "base_uri": "https://localhost:8080/"
        },
        "outputId": "950ee3c4-f14b-4166-8b76-4a62e62394d5"
      },
      "outputs": [
        {
          "output_type": "stream",
          "name": "stdout",
          "text": [
            "Downloading data from https://storage.googleapis.com/tensorflow/tf-keras-datasets/mnist.npz\n",
            "11490434/11490434 [==============================] - 2s 0us/step\n"
          ]
        }
      ],
      "source": [
        "\n",
        "(x_train, y_train), (x_test, y_test) = mnist.load_data()\n",
        "\n"
      ]
    },
    {
      "cell_type": "markdown",
      "id": "committed-bench",
      "metadata": {
        "id": "committed-bench"
      },
      "source": [
        "Create two datasets\n",
        "* one with digits below 5\n",
        "* one with 5 and above"
      ]
    },
    {
      "cell_type": "code",
      "execution_count": null,
      "id": "lesser-bradley",
      "metadata": {
        "id": "lesser-bradley"
      },
      "outputs": [],
      "source": [
        "x_train_lt5 = x_train[y_train < 5]\n",
        "y_train_lt5 = y_train[y_train < 5]\n",
        "x_test_lt5 = x_test[y_test < 5]\n",
        "y_test_lt5 = y_test[y_test < 5]\n",
        "\n",
        "x_train_gte5 = x_train[y_train >= 5]\n",
        "y_train_gte5 = y_train[y_train >= 5] - 5\n",
        "x_test_gte5 = x_test[y_test >= 5]\n",
        "y_test_gte5 = y_test[y_test >= 5] - 5"
      ]
    },
    {
      "cell_type": "markdown",
      "id": "talented-scheme",
      "metadata": {
        "id": "talented-scheme"
      },
      "source": [
        "* Define the feature layers that will used for transfer learning\n",
        "* Freeze these layers during fine-tuning process"
      ]
    },
    {
      "cell_type": "code",
      "execution_count": null,
      "id": "ranging-neutral",
      "metadata": {
        "id": "ranging-neutral"
      },
      "outputs": [],
      "source": [
        "\n",
        "feature_layers = [\n",
        "    Conv2D(filters, kernel_size,\n",
        "           padding='valid',\n",
        "           input_shape=input_shape),\n",
        "    Activation('relu'),\n",
        "    Conv2D(filters, kernel_size),\n",
        "    Activation('relu'),\n",
        "    MaxPooling2D(pool_size=pool_size),\n",
        "    Dropout(0.25),\n",
        "    Flatten(),\n",
        "]"
      ]
    },
    {
      "cell_type": "markdown",
      "id": "bulgarian-accuracy",
      "metadata": {
        "id": "bulgarian-accuracy"
      },
      "source": [
        "Define the classification layers"
      ]
    },
    {
      "cell_type": "code",
      "execution_count": null,
      "id": "religious-timer",
      "metadata": {
        "id": "religious-timer"
      },
      "outputs": [],
      "source": [
        "\n",
        "classification_layers = [\n",
        "    Dense(128),\n",
        "    Activation('relu'),\n",
        "    Dropout(0.5),\n",
        "    Dense(num_classes),\n",
        "    Activation('softmax')\n",
        "]"
      ]
    },
    {
      "cell_type": "markdown",
      "id": "yellow-puzzle",
      "metadata": {
        "id": "yellow-puzzle"
      },
      "source": [
        "Create a model by combining the feature layers and classification layers"
      ]
    },
    {
      "cell_type": "code",
      "execution_count": null,
      "id": "governmental-portable",
      "metadata": {
        "id": "governmental-portable"
      },
      "outputs": [],
      "source": [
        "\n",
        "model = Sequential(feature_layers + classification_layers)"
      ]
    },
    {
      "cell_type": "markdown",
      "id": "noticed-dairy",
      "metadata": {
        "id": "noticed-dairy"
      },
      "source": [
        "Check the model summary"
      ]
    },
    {
      "cell_type": "code",
      "execution_count": null,
      "id": "correct-syria",
      "metadata": {
        "colab": {
          "base_uri": "https://localhost:8080/"
        },
        "id": "correct-syria",
        "outputId": "44895b21-ab88-4300-c283-d93436fff919"
      },
      "outputs": [
        {
          "output_type": "stream",
          "name": "stdout",
          "text": [
            "Model: \"sequential\"\n",
            "_________________________________________________________________\n",
            " Layer (type)                Output Shape              Param #   \n",
            "=================================================================\n",
            " conv2d (Conv2D)             (None, 26, 26, 32)        320       \n",
            "                                                                 \n",
            " activation (Activation)     (None, 26, 26, 32)        0         \n",
            "                                                                 \n",
            " conv2d_1 (Conv2D)           (None, 24, 24, 32)        9248      \n",
            "                                                                 \n",
            " activation_1 (Activation)   (None, 24, 24, 32)        0         \n",
            "                                                                 \n",
            " max_pooling2d (MaxPooling2  (None, 12, 12, 32)        0         \n",
            " D)                                                              \n",
            "                                                                 \n",
            " dropout (Dropout)           (None, 12, 12, 32)        0         \n",
            "                                                                 \n",
            " flatten (Flatten)           (None, 4608)              0         \n",
            "                                                                 \n",
            " dense (Dense)               (None, 128)               589952    \n",
            "                                                                 \n",
            " activation_2 (Activation)   (None, 128)               0         \n",
            "                                                                 \n",
            " dropout_1 (Dropout)         (None, 128)               0         \n",
            "                                                                 \n",
            " dense_1 (Dense)             (None, 5)                 645       \n",
            "                                                                 \n",
            " activation_3 (Activation)   (None, 5)                 0         \n",
            "                                                                 \n",
            "=================================================================\n",
            "Total params: 600165 (2.29 MB)\n",
            "Trainable params: 600165 (2.29 MB)\n",
            "Non-trainable params: 0 (0.00 Byte)\n",
            "_________________________________________________________________\n"
          ]
        }
      ],
      "source": [
        "\n",
        "model.summary()"
      ]
    },
    {
      "cell_type": "markdown",
      "id": "productive-regular",
      "metadata": {
        "id": "productive-regular"
      },
      "source": [
        " Train the  model on the digits 5,6,7,8,9"
      ]
    },
    {
      "cell_type": "code",
      "execution_count": null,
      "id": "distinct-ticket",
      "metadata": {
        "colab": {
          "base_uri": "https://localhost:8080/"
        },
        "id": "distinct-ticket",
        "outputId": "7c9ca020-bb6f-474a-b9e8-c7eba354ac46"
      },
      "outputs": [
        {
          "output_type": "stream",
          "name": "stdout",
          "text": [
            "x_train shape: (29404, 28, 28, 1)\n",
            "29404 train samples\n",
            "4861 test samples\n",
            "Epoch 1/5\n",
            "230/230 [==============================] - 7s 10ms/step - loss: 1.6108 - accuracy: 0.2177 - val_loss: 1.5811 - val_accuracy: 0.2615\n",
            "Epoch 2/5\n",
            "230/230 [==============================] - 2s 7ms/step - loss: 1.5755 - accuracy: 0.2780 - val_loss: 1.5422 - val_accuracy: 0.4090\n",
            "Epoch 3/5\n",
            "230/230 [==============================] - 2s 7ms/step - loss: 1.5390 - accuracy: 0.3412 - val_loss: 1.5016 - val_accuracy: 0.5390\n",
            "Epoch 4/5\n",
            "230/230 [==============================] - 2s 7ms/step - loss: 1.5012 - accuracy: 0.4075 - val_loss: 1.4572 - val_accuracy: 0.6219\n",
            "Epoch 5/5\n",
            "230/230 [==============================] - 2s 8ms/step - loss: 1.4599 - accuracy: 0.4651 - val_loss: 1.4082 - val_accuracy: 0.6754\n",
            "Training time: 0:00:21.822436\n",
            "Test score: 1.4081743955612183\n",
            "Test accuracy: 0.6753754615783691\n"
          ]
        }
      ],
      "source": [
        "train_model(model,\n",
        "            (x_train_gte5, y_train_gte5),\n",
        "            (x_test_gte5, y_test_gte5), num_classes)"
      ]
    },
    {
      "cell_type": "markdown",
      "source": [
        "- The 2nd training has a greater training time but a higher accuracy"
      ],
      "metadata": {
        "id": "FPe9k8-TAyhc"
      },
      "id": "FPe9k8-TAyhc"
    },
    {
      "cell_type": "markdown",
      "id": "racial-emission",
      "metadata": {
        "id": "racial-emission"
      },
      "source": [
        "Freeze only the feature layers"
      ]
    },
    {
      "cell_type": "code",
      "execution_count": null,
      "id": "violent-territory",
      "metadata": {
        "id": "violent-territory"
      },
      "outputs": [],
      "source": [
        "\n",
        "for l in feature_layers:\n",
        "    l.trainable = False"
      ]
    },
    {
      "cell_type": "markdown",
      "id": "continuous-injection",
      "metadata": {
        "id": "continuous-injection"
      },
      "source": [
        "Check again the summary and observe the parameters from the previous model"
      ]
    },
    {
      "cell_type": "code",
      "execution_count": null,
      "id": "sunset-manhattan",
      "metadata": {
        "colab": {
          "base_uri": "https://localhost:8080/"
        },
        "id": "sunset-manhattan",
        "outputId": "e789e95d-03f3-4162-c6d6-1d6e5bf97c23"
      },
      "outputs": [
        {
          "output_type": "stream",
          "name": "stdout",
          "text": [
            "Model: \"sequential\"\n",
            "_________________________________________________________________\n",
            " Layer (type)                Output Shape              Param #   \n",
            "=================================================================\n",
            " conv2d (Conv2D)             (None, 26, 26, 32)        320       \n",
            "                                                                 \n",
            " activation (Activation)     (None, 26, 26, 32)        0         \n",
            "                                                                 \n",
            " conv2d_1 (Conv2D)           (None, 24, 24, 32)        9248      \n",
            "                                                                 \n",
            " activation_1 (Activation)   (None, 24, 24, 32)        0         \n",
            "                                                                 \n",
            " max_pooling2d (MaxPooling2  (None, 12, 12, 32)        0         \n",
            " D)                                                              \n",
            "                                                                 \n",
            " dropout (Dropout)           (None, 12, 12, 32)        0         \n",
            "                                                                 \n",
            " flatten (Flatten)           (None, 4608)              0         \n",
            "                                                                 \n",
            " dense (Dense)               (None, 128)               589952    \n",
            "                                                                 \n",
            " activation_2 (Activation)   (None, 128)               0         \n",
            "                                                                 \n",
            " dropout_1 (Dropout)         (None, 128)               0         \n",
            "                                                                 \n",
            " dense_1 (Dense)             (None, 5)                 645       \n",
            "                                                                 \n",
            " activation_3 (Activation)   (None, 5)                 0         \n",
            "                                                                 \n",
            "=================================================================\n",
            "Total params: 600165 (2.29 MB)\n",
            "Trainable params: 590597 (2.25 MB)\n",
            "Non-trainable params: 9568 (37.38 KB)\n",
            "_________________________________________________________________\n"
          ]
        }
      ],
      "source": [
        "model.summary()"
      ]
    },
    {
      "cell_type": "markdown",
      "id": "modern-carnival",
      "metadata": {
        "id": "modern-carnival"
      },
      "source": [
        "Train again the model using the 0 to 4 digits"
      ]
    },
    {
      "cell_type": "code",
      "execution_count": null,
      "id": "comprehensive-nurse",
      "metadata": {
        "colab": {
          "base_uri": "https://localhost:8080/"
        },
        "id": "comprehensive-nurse",
        "outputId": "0d021de4-fa98-47f3-a5ac-7fba2e0f8d24"
      },
      "outputs": [
        {
          "output_type": "stream",
          "name": "stdout",
          "text": [
            "x_train shape: (30596, 28, 28, 1)\n",
            "30596 train samples\n",
            "5139 test samples\n",
            "Epoch 1/5\n",
            "240/240 [==============================] - 3s 8ms/step - loss: 1.5650 - accuracy: 0.2783 - val_loss: 1.5102 - val_accuracy: 0.4799\n",
            "Epoch 2/5\n",
            "240/240 [==============================] - 1s 5ms/step - loss: 1.4986 - accuracy: 0.3989 - val_loss: 1.4430 - val_accuracy: 0.6180\n",
            "Epoch 3/5\n",
            "240/240 [==============================] - 2s 7ms/step - loss: 1.4402 - accuracy: 0.4930 - val_loss: 1.3786 - val_accuracy: 0.7015\n",
            "Epoch 4/5\n",
            "240/240 [==============================] - 1s 5ms/step - loss: 1.3798 - accuracy: 0.5753 - val_loss: 1.3156 - val_accuracy: 0.7519\n",
            "Epoch 5/5\n",
            "240/240 [==============================] - 1s 5ms/step - loss: 1.3227 - accuracy: 0.6336 - val_loss: 1.2534 - val_accuracy: 0.7896\n",
            "Training time: 0:00:10.972100\n",
            "Test score: 1.2534071207046509\n",
            "Test accuracy: 0.7896478176116943\n"
          ]
        }
      ],
      "source": [
        "train_model(model,\n",
        "            (x_train_lt5, y_train_lt5),\n",
        "            (x_test_lt5, y_test_lt5), num_classes)"
      ]
    },
    {
      "cell_type": "markdown",
      "id": "numerical-integer",
      "metadata": {
        "id": "numerical-integer"
      },
      "source": [
        "#### Supplementary Activity\n",
        "Now write code to reverse this training process. That is, you will train on the digits 0-4, and then finetune only the last layers on the digits 5-9."
      ]
    },
    {
      "cell_type": "code",
      "source": [
        "epochs = 30"
      ],
      "metadata": {
        "id": "mzsPB8XQYoBt"
      },
      "id": "mzsPB8XQYoBt",
      "execution_count": null,
      "outputs": []
    },
    {
      "cell_type": "code",
      "execution_count": null,
      "id": "801c808d",
      "metadata": {
        "colab": {
          "base_uri": "https://localhost:8080/"
        },
        "id": "801c808d",
        "outputId": "3e1216ad-5e1b-4790-d738-7dd9ed4575b1"
      },
      "outputs": [
        {
          "output_type": "stream",
          "name": "stdout",
          "text": [
            "Model: \"sequential_2\"\n",
            "_________________________________________________________________\n",
            " Layer (type)                Output Shape              Param #   \n",
            "=================================================================\n",
            " conv2d (Conv2D)             (None, 26, 26, 32)        320       \n",
            "                                                                 \n",
            " activation (Activation)     (None, 26, 26, 32)        0         \n",
            "                                                                 \n",
            " conv2d_1 (Conv2D)           (None, 24, 24, 32)        9248      \n",
            "                                                                 \n",
            " activation_1 (Activation)   (None, 24, 24, 32)        0         \n",
            "                                                                 \n",
            " max_pooling2d (MaxPooling2  (None, 12, 12, 32)        0         \n",
            " D)                                                              \n",
            "                                                                 \n",
            " dropout (Dropout)           (None, 12, 12, 32)        0         \n",
            "                                                                 \n",
            " flatten (Flatten)           (None, 4608)              0         \n",
            "                                                                 \n",
            " dense (Dense)               (None, 128)               589952    \n",
            "                                                                 \n",
            " activation_2 (Activation)   (None, 128)               0         \n",
            "                                                                 \n",
            " dropout_1 (Dropout)         (None, 128)               0         \n",
            "                                                                 \n",
            " dense_1 (Dense)             (None, 5)                 645       \n",
            "                                                                 \n",
            " activation_3 (Activation)   (None, 5)                 0         \n",
            "                                                                 \n",
            "=================================================================\n",
            "Total params: 600165 (2.29 MB)\n",
            "Trainable params: 590597 (2.25 MB)\n",
            "Non-trainable params: 9568 (37.38 KB)\n",
            "_________________________________________________________________\n"
          ]
        }
      ],
      "source": [
        "new_model = Sequential(feature_layers + classification_layers)\n",
        "new_model.summary()"
      ]
    },
    {
      "cell_type": "code",
      "execution_count": null,
      "id": "f1e6db81",
      "metadata": {
        "colab": {
          "base_uri": "https://localhost:8080/"
        },
        "id": "f1e6db81",
        "outputId": "80aa511f-7d7c-4720-9d36-224a7a13285d"
      },
      "outputs": [
        {
          "output_type": "stream",
          "name": "stdout",
          "text": [
            "x_train shape: (30596, 28, 28, 1)\n",
            "30596 train samples\n",
            "5139 test samples\n",
            "Epoch 1/30\n",
            "240/240 [==============================] - 2s 6ms/step - loss: 0.3963 - accuracy: 0.9140 - val_loss: 0.3107 - val_accuracy: 0.9504\n",
            "Epoch 2/30\n",
            "240/240 [==============================] - 1s 5ms/step - loss: 0.3894 - accuracy: 0.9143 - val_loss: 0.3052 - val_accuracy: 0.9510\n",
            "Epoch 3/30\n",
            "240/240 [==============================] - 1s 5ms/step - loss: 0.3863 - accuracy: 0.9155 - val_loss: 0.2999 - val_accuracy: 0.9515\n",
            "Epoch 4/30\n",
            "240/240 [==============================] - 2s 7ms/step - loss: 0.3783 - accuracy: 0.9173 - val_loss: 0.2947 - val_accuracy: 0.9515\n",
            "Epoch 5/30\n",
            "240/240 [==============================] - 1s 5ms/step - loss: 0.3733 - accuracy: 0.9163 - val_loss: 0.2898 - val_accuracy: 0.9519\n",
            "Epoch 6/30\n",
            "240/240 [==============================] - 1s 5ms/step - loss: 0.3695 - accuracy: 0.9166 - val_loss: 0.2853 - val_accuracy: 0.9525\n",
            "Epoch 7/30\n",
            "240/240 [==============================] - 1s 5ms/step - loss: 0.3670 - accuracy: 0.9173 - val_loss: 0.2812 - val_accuracy: 0.9527\n",
            "Epoch 8/30\n",
            "240/240 [==============================] - 1s 5ms/step - loss: 0.3638 - accuracy: 0.9168 - val_loss: 0.2770 - val_accuracy: 0.9529\n",
            "Epoch 9/30\n",
            "240/240 [==============================] - 1s 5ms/step - loss: 0.3588 - accuracy: 0.9180 - val_loss: 0.2728 - val_accuracy: 0.9531\n",
            "Epoch 10/30\n",
            "240/240 [==============================] - 1s 5ms/step - loss: 0.3525 - accuracy: 0.9204 - val_loss: 0.2690 - val_accuracy: 0.9537\n",
            "Epoch 11/30\n",
            "240/240 [==============================] - 1s 5ms/step - loss: 0.3493 - accuracy: 0.9213 - val_loss: 0.2651 - val_accuracy: 0.9541\n",
            "Epoch 12/30\n",
            "240/240 [==============================] - 1s 5ms/step - loss: 0.3465 - accuracy: 0.9194 - val_loss: 0.2615 - val_accuracy: 0.9547\n",
            "Epoch 13/30\n",
            "240/240 [==============================] - 1s 6ms/step - loss: 0.3401 - accuracy: 0.9226 - val_loss: 0.2580 - val_accuracy: 0.9554\n",
            "Epoch 14/30\n",
            "240/240 [==============================] - 2s 7ms/step - loss: 0.3397 - accuracy: 0.9229 - val_loss: 0.2546 - val_accuracy: 0.9558\n",
            "Epoch 15/30\n",
            "240/240 [==============================] - 1s 5ms/step - loss: 0.3341 - accuracy: 0.9220 - val_loss: 0.2513 - val_accuracy: 0.9564\n",
            "Epoch 16/30\n",
            "240/240 [==============================] - 1s 5ms/step - loss: 0.3285 - accuracy: 0.9233 - val_loss: 0.2480 - val_accuracy: 0.9570\n",
            "Epoch 17/30\n",
            "240/240 [==============================] - 1s 5ms/step - loss: 0.3268 - accuracy: 0.9239 - val_loss: 0.2449 - val_accuracy: 0.9570\n",
            "Epoch 18/30\n",
            "240/240 [==============================] - 1s 5ms/step - loss: 0.3229 - accuracy: 0.9241 - val_loss: 0.2418 - val_accuracy: 0.9576\n",
            "Epoch 19/30\n",
            "240/240 [==============================] - 1s 5ms/step - loss: 0.3180 - accuracy: 0.9259 - val_loss: 0.2390 - val_accuracy: 0.9582\n",
            "Epoch 20/30\n",
            "240/240 [==============================] - 1s 5ms/step - loss: 0.3187 - accuracy: 0.9263 - val_loss: 0.2363 - val_accuracy: 0.9586\n",
            "Epoch 21/30\n",
            "240/240 [==============================] - 1s 5ms/step - loss: 0.3123 - accuracy: 0.9256 - val_loss: 0.2336 - val_accuracy: 0.9586\n",
            "Epoch 22/30\n",
            "240/240 [==============================] - 1s 5ms/step - loss: 0.3120 - accuracy: 0.9244 - val_loss: 0.2309 - val_accuracy: 0.9587\n",
            "Epoch 23/30\n",
            "240/240 [==============================] - 1s 6ms/step - loss: 0.3093 - accuracy: 0.9262 - val_loss: 0.2284 - val_accuracy: 0.9589\n",
            "Epoch 24/30\n",
            "240/240 [==============================] - 1s 6ms/step - loss: 0.3052 - accuracy: 0.9280 - val_loss: 0.2259 - val_accuracy: 0.9593\n",
            "Epoch 25/30\n",
            "240/240 [==============================] - 1s 5ms/step - loss: 0.3038 - accuracy: 0.9267 - val_loss: 0.2235 - val_accuracy: 0.9593\n",
            "Epoch 26/30\n",
            "240/240 [==============================] - 1s 5ms/step - loss: 0.2982 - accuracy: 0.9279 - val_loss: 0.2212 - val_accuracy: 0.9595\n",
            "Epoch 27/30\n",
            "240/240 [==============================] - 1s 5ms/step - loss: 0.3006 - accuracy: 0.9267 - val_loss: 0.2190 - val_accuracy: 0.9595\n",
            "Epoch 28/30\n",
            "240/240 [==============================] - 1s 5ms/step - loss: 0.2968 - accuracy: 0.9287 - val_loss: 0.2169 - val_accuracy: 0.9595\n",
            "Epoch 29/30\n",
            "240/240 [==============================] - 1s 5ms/step - loss: 0.2928 - accuracy: 0.9304 - val_loss: 0.2148 - val_accuracy: 0.9599\n",
            "Epoch 30/30\n",
            "240/240 [==============================] - 1s 5ms/step - loss: 0.2905 - accuracy: 0.9300 - val_loss: 0.2128 - val_accuracy: 0.9603\n",
            "Training time: 0:00:37.604417\n",
            "Test score: 0.21275191009044647\n",
            "Test accuracy: 0.960303544998169\n"
          ]
        }
      ],
      "source": [
        "## Train on numbers 0-4\n",
        "train_model(new_model,\n",
        "            (x_train_lt5, y_train_lt5),\n",
        "            (x_test_lt5, y_test_lt5), num_classes)"
      ]
    },
    {
      "cell_type": "code",
      "execution_count": null,
      "id": "cdadbdf8",
      "metadata": {
        "id": "cdadbdf8"
      },
      "outputs": [],
      "source": [
        "for l in feature_layers:\n",
        "    l.trainable = False"
      ]
    },
    {
      "cell_type": "code",
      "execution_count": null,
      "id": "f3030526",
      "metadata": {
        "colab": {
          "base_uri": "https://localhost:8080/"
        },
        "id": "f3030526",
        "outputId": "81020925-c935-4954-e6ad-018413839e27"
      },
      "outputs": [
        {
          "output_type": "stream",
          "name": "stdout",
          "text": [
            "Model: \"sequential_2\"\n",
            "_________________________________________________________________\n",
            " Layer (type)                Output Shape              Param #   \n",
            "=================================================================\n",
            " conv2d (Conv2D)             (None, 26, 26, 32)        320       \n",
            "                                                                 \n",
            " activation (Activation)     (None, 26, 26, 32)        0         \n",
            "                                                                 \n",
            " conv2d_1 (Conv2D)           (None, 24, 24, 32)        9248      \n",
            "                                                                 \n",
            " activation_1 (Activation)   (None, 24, 24, 32)        0         \n",
            "                                                                 \n",
            " max_pooling2d (MaxPooling2  (None, 12, 12, 32)        0         \n",
            " D)                                                              \n",
            "                                                                 \n",
            " dropout (Dropout)           (None, 12, 12, 32)        0         \n",
            "                                                                 \n",
            " flatten (Flatten)           (None, 4608)              0         \n",
            "                                                                 \n",
            " dense (Dense)               (None, 128)               589952    \n",
            "                                                                 \n",
            " activation_2 (Activation)   (None, 128)               0         \n",
            "                                                                 \n",
            " dropout_1 (Dropout)         (None, 128)               0         \n",
            "                                                                 \n",
            " dense_1 (Dense)             (None, 5)                 645       \n",
            "                                                                 \n",
            " activation_3 (Activation)   (None, 5)                 0         \n",
            "                                                                 \n",
            "=================================================================\n",
            "Total params: 600165 (2.29 MB)\n",
            "Trainable params: 590597 (2.25 MB)\n",
            "Non-trainable params: 9568 (37.38 KB)\n",
            "_________________________________________________________________\n"
          ]
        }
      ],
      "source": [
        "new_model.summary()"
      ]
    },
    {
      "cell_type": "code",
      "execution_count": null,
      "id": "be4ace04",
      "metadata": {
        "colab": {
          "base_uri": "https://localhost:8080/"
        },
        "id": "be4ace04",
        "outputId": "fc358323-4b95-4f50-b259-6d1cbe7e4ee9"
      },
      "outputs": [
        {
          "output_type": "stream",
          "name": "stdout",
          "text": [
            "x_train shape: (29404, 28, 28, 1)\n",
            "29404 train samples\n",
            "4861 test samples\n",
            "Epoch 1/30\n",
            "230/230 [==============================] - 2s 5ms/step - loss: 1.9575 - accuracy: 0.3299 - val_loss: 1.8249 - val_accuracy: 0.3553\n",
            "Epoch 2/30\n",
            "230/230 [==============================] - 1s 6ms/step - loss: 1.8526 - accuracy: 0.3408 - val_loss: 1.7279 - val_accuracy: 0.3709\n",
            "Epoch 3/30\n",
            "230/230 [==============================] - 1s 6ms/step - loss: 1.7669 - accuracy: 0.3517 - val_loss: 1.6419 - val_accuracy: 0.3808\n",
            "Epoch 4/30\n",
            "230/230 [==============================] - 1s 5ms/step - loss: 1.6870 - accuracy: 0.3628 - val_loss: 1.5638 - val_accuracy: 0.3958\n",
            "Epoch 5/30\n",
            "230/230 [==============================] - 1s 5ms/step - loss: 1.6109 - accuracy: 0.3783 - val_loss: 1.4913 - val_accuracy: 0.4112\n",
            "Epoch 6/30\n",
            "230/230 [==============================] - 1s 5ms/step - loss: 1.5483 - accuracy: 0.3901 - val_loss: 1.4233 - val_accuracy: 0.4271\n",
            "Epoch 7/30\n",
            "230/230 [==============================] - 1s 5ms/step - loss: 1.4810 - accuracy: 0.4095 - val_loss: 1.3607 - val_accuracy: 0.4439\n",
            "Epoch 8/30\n",
            "230/230 [==============================] - 1s 5ms/step - loss: 1.4209 - accuracy: 0.4292 - val_loss: 1.3026 - val_accuracy: 0.4612\n",
            "Epoch 9/30\n",
            "230/230 [==============================] - 1s 5ms/step - loss: 1.3672 - accuracy: 0.4486 - val_loss: 1.2487 - val_accuracy: 0.4820\n",
            "Epoch 10/30\n",
            "230/230 [==============================] - 1s 5ms/step - loss: 1.3153 - accuracy: 0.4719 - val_loss: 1.1995 - val_accuracy: 0.5044\n",
            "Epoch 11/30\n",
            "230/230 [==============================] - 1s 5ms/step - loss: 1.2736 - accuracy: 0.4856 - val_loss: 1.1537 - val_accuracy: 0.5281\n",
            "Epoch 12/30\n",
            "230/230 [==============================] - 1s 5ms/step - loss: 1.2281 - accuracy: 0.5098 - val_loss: 1.1119 - val_accuracy: 0.5567\n",
            "Epoch 13/30\n",
            "230/230 [==============================] - 1s 6ms/step - loss: 1.1853 - accuracy: 0.5343 - val_loss: 1.0735 - val_accuracy: 0.5838\n",
            "Epoch 14/30\n",
            "230/230 [==============================] - 1s 5ms/step - loss: 1.1479 - accuracy: 0.5482 - val_loss: 1.0381 - val_accuracy: 0.6079\n",
            "Epoch 15/30\n",
            "230/230 [==============================] - 1s 5ms/step - loss: 1.1138 - accuracy: 0.5732 - val_loss: 1.0056 - val_accuracy: 0.6291\n",
            "Epoch 16/30\n",
            "230/230 [==============================] - 1s 5ms/step - loss: 1.0830 - accuracy: 0.5872 - val_loss: 0.9756 - val_accuracy: 0.6480\n",
            "Epoch 17/30\n",
            "230/230 [==============================] - 1s 5ms/step - loss: 1.0530 - accuracy: 0.6022 - val_loss: 0.9476 - val_accuracy: 0.6643\n",
            "Epoch 18/30\n",
            "230/230 [==============================] - 1s 5ms/step - loss: 1.0222 - accuracy: 0.6224 - val_loss: 0.9213 - val_accuracy: 0.6774\n",
            "Epoch 19/30\n",
            "230/230 [==============================] - 1s 5ms/step - loss: 1.0003 - accuracy: 0.6347 - val_loss: 0.8968 - val_accuracy: 0.6929\n",
            "Epoch 20/30\n",
            "230/230 [==============================] - 1s 5ms/step - loss: 0.9765 - accuracy: 0.6457 - val_loss: 0.8739 - val_accuracy: 0.7034\n",
            "Epoch 21/30\n",
            "230/230 [==============================] - 1s 5ms/step - loss: 0.9537 - accuracy: 0.6598 - val_loss: 0.8523 - val_accuracy: 0.7143\n",
            "Epoch 22/30\n",
            "230/230 [==============================] - 1s 6ms/step - loss: 0.9355 - accuracy: 0.6717 - val_loss: 0.8319 - val_accuracy: 0.7235\n",
            "Epoch 23/30\n",
            "230/230 [==============================] - 1s 6ms/step - loss: 0.9113 - accuracy: 0.6813 - val_loss: 0.8126 - val_accuracy: 0.7344\n",
            "Epoch 24/30\n",
            "230/230 [==============================] - 1s 5ms/step - loss: 0.8962 - accuracy: 0.6910 - val_loss: 0.7942 - val_accuracy: 0.7451\n",
            "Epoch 25/30\n",
            "230/230 [==============================] - 1s 5ms/step - loss: 0.8765 - accuracy: 0.7012 - val_loss: 0.7769 - val_accuracy: 0.7523\n",
            "Epoch 26/30\n",
            "230/230 [==============================] - 1s 5ms/step - loss: 0.8573 - accuracy: 0.7100 - val_loss: 0.7603 - val_accuracy: 0.7579\n",
            "Epoch 27/30\n",
            "230/230 [==============================] - 1s 5ms/step - loss: 0.8394 - accuracy: 0.7173 - val_loss: 0.7446 - val_accuracy: 0.7659\n",
            "Epoch 28/30\n",
            "230/230 [==============================] - 1s 5ms/step - loss: 0.8249 - accuracy: 0.7275 - val_loss: 0.7296 - val_accuracy: 0.7714\n",
            "Epoch 29/30\n",
            "230/230 [==============================] - 1s 5ms/step - loss: 0.8104 - accuracy: 0.7347 - val_loss: 0.7154 - val_accuracy: 0.7766\n",
            "Epoch 30/30\n",
            "230/230 [==============================] - 1s 5ms/step - loss: 0.7971 - accuracy: 0.7389 - val_loss: 0.7017 - val_accuracy: 0.7826\n",
            "Training time: 0:00:41.670152\n",
            "Test score: 0.7016744613647461\n",
            "Test accuracy: 0.7825550436973572\n"
          ]
        }
      ],
      "source": [
        "train_model(new_model,\n",
        "            (x_train_gte5, y_train_gte5),\n",
        "            (x_test_gte5, y_test_gte5), num_classes)"
      ]
    },
    {
      "cell_type": "markdown",
      "source": [
        "- The model trained 4 secs less than the first training"
      ],
      "metadata": {
        "id": "fi0R_5RJD1oU"
      },
      "id": "fi0R_5RJD1oU"
    },
    {
      "cell_type": "markdown",
      "id": "cardiovascular-sapphire",
      "metadata": {
        "id": "cardiovascular-sapphire"
      },
      "source": [
        "#### Conclusion"
      ]
    },
    {
      "cell_type": "markdown",
      "id": "conditional-prerequisite",
      "metadata": {
        "id": "conditional-prerequisite"
      },
      "source": [
        "***During the activity I was able to get the gist of how transfer learning works, we train a model on a set of samples, then from the trainied model we than train it again on another set of samples and fine-tune it. On the First part of the model training, the model was trained a small amount of time but yielded a small accuracy; then it was trained agained on another set of samples and produced a higher accuracy but a longer training time. The reverse model had a different result, the first training had a higher accuracy and a bigger training time, the second training had a smaller training time but produced a lower accuracy than the first training.***"
      ]
    }
  ],
  "metadata": {
    "kernelspec": {
      "display_name": "Python 3",
      "name": "python3"
    },
    "language_info": {
      "codemirror_mode": {
        "name": "ipython",
        "version": 3
      },
      "file_extension": ".py",
      "mimetype": "text/x-python",
      "name": "python",
      "nbconvert_exporter": "python",
      "pygments_lexer": "ipython3",
      "version": "3.6.13"
    },
    "colab": {
      "provenance": [],
      "gpuType": "T4"
    },
    "accelerator": "GPU"
  },
  "nbformat": 4,
  "nbformat_minor": 5
}