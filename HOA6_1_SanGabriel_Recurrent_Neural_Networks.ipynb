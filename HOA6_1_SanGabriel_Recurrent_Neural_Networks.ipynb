{
  "cells": [
    {
      "cell_type": "markdown",
      "id": "fourth-lesbian",
      "metadata": {
        "id": "fourth-lesbian"
      },
      "source": [
        "# Activity 3.1 - Recurrent Neural Networks"
      ]
    },
    {
      "cell_type": "markdown",
      "id": "historical-import",
      "metadata": {
        "id": "historical-import"
      },
      "source": [
        "#### Objective(s):\n",
        "\n",
        "This activity aims to introduce how to build a recurrent neural network"
      ]
    },
    {
      "cell_type": "markdown",
      "id": "related-karma",
      "metadata": {
        "id": "related-karma"
      },
      "source": [
        "#### Intended Learning Outcomes (ILOs):\n",
        "* Demonstrate how to build and train neural recurrent neural network\n",
        "* Evaluate the score and accuracy of the recurrent neural network"
      ]
    },
    {
      "cell_type": "markdown",
      "id": "fossil-thermal",
      "metadata": {
        "id": "fossil-thermal"
      },
      "source": [
        "#### Resources:\n",
        "* Jupyter Notebook\n",
        "* IMDB"
      ]
    },
    {
      "cell_type": "markdown",
      "id": "australian-marketing",
      "metadata": {
        "id": "australian-marketing"
      },
      "source": [
        "#### Procedures\n",
        "Load the necessary libraries"
      ]
    },
    {
      "cell_type": "code",
      "execution_count": null,
      "id": "based-growing",
      "metadata": {
        "id": "based-growing"
      },
      "outputs": [],
      "source": [
        "from __future__ import print_function\n",
        "import keras\n",
        "from keras.preprocessing import sequence\n",
        "from keras.models import Sequential\n",
        "from keras.layers import Dense, Embedding\n",
        "from keras.layers import SimpleRNN\n",
        "from keras.datasets import imdb\n",
        "from keras import initializers"
      ]
    },
    {
      "cell_type": "markdown",
      "id": "romance-object",
      "metadata": {
        "id": "romance-object"
      },
      "source": [
        "* Set the max_features to 20000\n",
        "* Set the maximum length of a sequence\n",
        "* Use the batch size of 32"
      ]
    },
    {
      "cell_type": "code",
      "execution_count": null,
      "id": "pending-finance",
      "metadata": {
        "id": "pending-finance"
      },
      "outputs": [],
      "source": [
        "max_features = 20000\n",
        "maxlen = 30\n",
        "batch_size = 32"
      ]
    },
    {
      "cell_type": "markdown",
      "id": "juvenile-defensive",
      "metadata": {
        "id": "juvenile-defensive"
      },
      "source": [
        "Load the data"
      ]
    },
    {
      "cell_type": "code",
      "execution_count": null,
      "id": "familiar-escape",
      "metadata": {
        "id": "familiar-escape",
        "colab": {
          "base_uri": "https://localhost:8080/"
        },
        "outputId": "f6023fda-8dee-4222-8531-ded99ba466c6"
      },
      "outputs": [
        {
          "output_type": "stream",
          "name": "stdout",
          "text": [
            "Downloading data from https://storage.googleapis.com/tensorflow/tf-keras-datasets/imdb.npz\n",
            "17464789/17464789 [==============================] - 0s 0us/step\n",
            "25000 train sequences\n",
            "25000 test sequences\n"
          ]
        }
      ],
      "source": [
        "\n",
        "(x_train, y_train), (x_test, y_test) = imdb.load_data(num_words=max_features)\n",
        "print(len(x_train), 'train sequences')\n",
        "print(len(x_test), 'test sequences')"
      ]
    },
    {
      "cell_type": "markdown",
      "id": "hairy-volleyball",
      "metadata": {
        "id": "hairy-volleyball"
      },
      "source": [
        " Truncates the sequences so that they are of the maximum length"
      ]
    },
    {
      "cell_type": "code",
      "execution_count": null,
      "id": "distant-praise",
      "metadata": {
        "id": "distant-praise",
        "colab": {
          "base_uri": "https://localhost:8080/"
        },
        "outputId": "4929bc73-1415-4dfe-be9b-2fd6ad43c974"
      },
      "outputs": [
        {
          "output_type": "stream",
          "name": "stdout",
          "text": [
            "x_train shape: (25000, 30)\n",
            "x_test shape: (25000, 30)\n"
          ]
        }
      ],
      "source": [
        "x_train = sequence.pad_sequences(x_train, maxlen=maxlen)\n",
        "x_test = sequence.pad_sequences(x_test, maxlen=maxlen)\n",
        "print('x_train shape:', x_train.shape)\n",
        "print('x_test shape:', x_test.shape)"
      ]
    },
    {
      "cell_type": "markdown",
      "source": [
        "Check the example of sequence"
      ],
      "metadata": {
        "id": "xp3UglbJrAyg"
      },
      "id": "xp3UglbJrAyg"
    },
    {
      "cell_type": "code",
      "execution_count": null,
      "id": "surprising-bacteria",
      "metadata": {
        "id": "surprising-bacteria",
        "colab": {
          "base_uri": "https://localhost:8080/"
        },
        "outputId": "fbaf9dfd-7dd3-4499-9759-3a7fc225fbab"
      },
      "outputs": [
        {
          "output_type": "execute_result",
          "data": {
            "text/plain": [
              "array([  219,   141,    35,   221,   956,    54,    13,    16,    11,\n",
              "        2714,    61,   322,   423,    12,    38,    76,    59,  1803,\n",
              "          72,     8, 10508,    23,     5,   967,    12,    38,    85,\n",
              "          62,   358,    99], dtype=int32)"
            ]
          },
          "metadata": {},
          "execution_count": 5
        }
      ],
      "source": [
        "x_train[123,:]"
      ]
    },
    {
      "cell_type": "markdown",
      "id": "quantitative-breath",
      "metadata": {
        "id": "quantitative-breath"
      },
      "source": [
        "Build a recurrent neural network"
      ]
    },
    {
      "cell_type": "code",
      "execution_count": null,
      "id": "closed-writer",
      "metadata": {
        "id": "closed-writer"
      },
      "outputs": [],
      "source": [
        "rnn_hidden_dim = 5\n",
        "word_embedding_dim = 50\n",
        "model_rnn = Sequential()\n",
        "model_rnn.add(Embedding(max_features, word_embedding_dim))  #This layer takes each integer in the sequence and embeds it in a 50-dimensional vector\n",
        "model_rnn.add(SimpleRNN(rnn_hidden_dim,\n",
        "                    kernel_initializer=initializers.RandomNormal(stddev=0.001),\n",
        "                    recurrent_initializer=initializers.Identity(gain=1.0),\n",
        "                    activation='relu',\n",
        "                    input_shape=x_train.shape[1:]))\n",
        "\n",
        "model_rnn.add(Dense(1, activation='sigmoid'))"
      ]
    },
    {
      "cell_type": "code",
      "execution_count": null,
      "id": "developmental-foster",
      "metadata": {
        "id": "developmental-foster",
        "colab": {
          "base_uri": "https://localhost:8080/"
        },
        "outputId": "e827e069-3ed7-4575-e723-5c7853af0219"
      },
      "outputs": [
        {
          "output_type": "stream",
          "name": "stderr",
          "text": [
            "WARNING:absl:`lr` is deprecated in Keras optimizer, please use `learning_rate` or use the legacy optimizer, e.g.,tf.keras.optimizers.legacy.RMSprop.\n"
          ]
        }
      ],
      "source": [
        "rmsprop = keras.optimizers.RMSprop(lr = .0001)\n",
        "\n",
        "model_rnn.compile(loss='binary_crossentropy',\n",
        "              optimizer=rmsprop,\n",
        "              metrics=['accuracy'])"
      ]
    },
    {
      "cell_type": "code",
      "execution_count": null,
      "id": "joined-athletics",
      "metadata": {
        "id": "joined-athletics",
        "colab": {
          "base_uri": "https://localhost:8080/"
        },
        "outputId": "8369b0c5-f753-4dbe-e9f5-1f75c6800266"
      },
      "outputs": [
        {
          "output_type": "stream",
          "name": "stdout",
          "text": [
            "Epoch 1/10\n",
            "782/782 [==============================] - 15s 18ms/step - loss: 0.5459 - accuracy: 0.7111 - val_loss: 0.4608 - val_accuracy: 0.7797\n",
            "Epoch 2/10\n",
            "782/782 [==============================] - 15s 19ms/step - loss: 0.4127 - accuracy: 0.8100 - val_loss: 0.4423 - val_accuracy: 0.7898\n",
            "Epoch 3/10\n",
            "782/782 [==============================] - 14s 18ms/step - loss: 0.3745 - accuracy: 0.8324 - val_loss: 0.4430 - val_accuracy: 0.7924\n",
            "Epoch 4/10\n",
            "782/782 [==============================] - 12s 15ms/step - loss: 0.3466 - accuracy: 0.8492 - val_loss: 0.4503 - val_accuracy: 0.7897\n",
            "Epoch 5/10\n",
            "782/782 [==============================] - 11s 14ms/step - loss: 0.3247 - accuracy: 0.8625 - val_loss: 0.4639 - val_accuracy: 0.7868\n",
            "Epoch 6/10\n",
            "782/782 [==============================] - 13s 17ms/step - loss: 0.3048 - accuracy: 0.8726 - val_loss: 0.4652 - val_accuracy: 0.7866\n",
            "Epoch 7/10\n",
            "782/782 [==============================] - 15s 19ms/step - loss: 0.2863 - accuracy: 0.8830 - val_loss: 0.4859 - val_accuracy: 0.7849\n",
            "Epoch 8/10\n",
            "782/782 [==============================] - 16s 21ms/step - loss: 0.2701 - accuracy: 0.8918 - val_loss: 0.4909 - val_accuracy: 0.7814\n",
            "Epoch 9/10\n",
            "782/782 [==============================] - 13s 17ms/step - loss: 0.2554 - accuracy: 0.8998 - val_loss: 0.5079 - val_accuracy: 0.7796\n",
            "Epoch 10/10\n",
            "782/782 [==============================] - 13s 17ms/step - loss: 0.2418 - accuracy: 0.9072 - val_loss: 0.5349 - val_accuracy: 0.7739\n"
          ]
        },
        {
          "output_type": "execute_result",
          "data": {
            "text/plain": [
              "<keras.src.callbacks.History at 0x780feed91300>"
            ]
          },
          "metadata": {},
          "execution_count": 8
        }
      ],
      "source": [
        "model_rnn.fit(x_train, y_train,\n",
        "          batch_size=batch_size,\n",
        "          epochs=10,\n",
        "          validation_data=(x_test, y_test))"
      ]
    },
    {
      "cell_type": "markdown",
      "id": "freelance-proposal",
      "metadata": {
        "id": "freelance-proposal"
      },
      "source": [
        "Evaluate the model using the test set."
      ]
    },
    {
      "cell_type": "code",
      "execution_count": null,
      "id": "early-connecticut",
      "metadata": {
        "id": "early-connecticut",
        "colab": {
          "base_uri": "https://localhost:8080/"
        },
        "outputId": "099f047d-a74c-45d4-a57a-6898182eed1f"
      },
      "outputs": [
        {
          "output_type": "stream",
          "name": "stdout",
          "text": [
            "782/782 [==============================] - 2s 3ms/step - loss: 0.5349 - accuracy: 0.7739\n",
            "Test score: 0.5348846912384033\n",
            "Test accuracy: 0.7739199995994568\n"
          ]
        }
      ],
      "source": [
        "score, acc = model_rnn.evaluate(x_test, y_test,\n",
        "                            batch_size=batch_size)\n",
        "print('Test score:', score)\n",
        "print('Test accuracy:', acc)"
      ]
    },
    {
      "cell_type": "markdown",
      "id": "miniature-generic",
      "metadata": {
        "id": "miniature-generic"
      },
      "source": [
        "Interpret the result"
      ]
    },
    {
      "cell_type": "markdown",
      "id": "marine-cotton",
      "metadata": {
        "id": "marine-cotton"
      },
      "source": [
        "***The results are not that high, making the model still perform poorly, only having an accuracy if 77%***"
      ]
    },
    {
      "cell_type": "markdown",
      "id": "planned-detection",
      "metadata": {
        "id": "planned-detection"
      },
      "source": [
        "#### Supplementary Activity"
      ]
    },
    {
      "cell_type": "markdown",
      "id": "industrial-frequency",
      "metadata": {
        "id": "industrial-frequency"
      },
      "source": [
        "- Prepare the data to use sequences of length 80 rather than length 30.  Did it improve the performance?\n",
        "- Try different values of the \"max_features\".  Can you improve the performance?\n",
        "- Try smaller and larger sizes of the RNN hidden dimension.  How does it affect the model performance?  How does it affect the run time?"
      ]
    },
    {
      "cell_type": "code",
      "execution_count": null,
      "id": "important-delight",
      "metadata": {
        "id": "important-delight",
        "colab": {
          "base_uri": "https://localhost:8080/"
        },
        "outputId": "9ea691be-eecb-42b0-b648-42b6d84bbd58"
      },
      "outputs": [
        {
          "output_type": "stream",
          "name": "stderr",
          "text": [
            "WARNING:absl:`lr` is deprecated in Keras optimizer, please use `learning_rate` or use the legacy optimizer, e.g.,tf.keras.optimizers.legacy.RMSprop.\n"
          ]
        },
        {
          "output_type": "stream",
          "name": "stdout",
          "text": [
            "Epoch 1/10\n",
            "782/782 [==============================] - 23s 29ms/step - loss: 0.6932 - accuracy: 0.4950 - val_loss: 0.6931 - val_accuracy: 0.5000\n",
            "Epoch 2/10\n",
            "782/782 [==============================] - 21s 26ms/step - loss: 0.6932 - accuracy: 0.4965 - val_loss: 0.6932 - val_accuracy: 0.5000\n",
            "Epoch 3/10\n",
            "782/782 [==============================] - 22s 28ms/step - loss: 0.6932 - accuracy: 0.5030 - val_loss: 0.6932 - val_accuracy: 0.5000\n",
            "Epoch 4/10\n",
            "782/782 [==============================] - 21s 27ms/step - loss: 0.6932 - accuracy: 0.4974 - val_loss: 0.6931 - val_accuracy: 0.5000\n",
            "Epoch 5/10\n",
            "782/782 [==============================] - 22s 29ms/step - loss: 0.6932 - accuracy: 0.4966 - val_loss: 0.6932 - val_accuracy: 0.5000\n",
            "Epoch 6/10\n",
            "782/782 [==============================] - 22s 29ms/step - loss: 0.6932 - accuracy: 0.5035 - val_loss: 0.6932 - val_accuracy: 0.5000\n",
            "Epoch 7/10\n",
            "782/782 [==============================] - 22s 28ms/step - loss: 0.6932 - accuracy: 0.4966 - val_loss: 0.6932 - val_accuracy: 0.5000\n",
            "Epoch 8/10\n",
            "782/782 [==============================] - 22s 28ms/step - loss: 0.6932 - accuracy: 0.4959 - val_loss: 0.6932 - val_accuracy: 0.5000\n",
            "Epoch 9/10\n",
            "782/782 [==============================] - 22s 29ms/step - loss: 0.6932 - accuracy: 0.5006 - val_loss: 0.6931 - val_accuracy: 0.5000\n",
            "Epoch 10/10\n",
            "782/782 [==============================] - 20s 26ms/step - loss: 0.6932 - accuracy: 0.4984 - val_loss: 0.6932 - val_accuracy: 0.5000\n",
            "782/782 [==============================] - 4s 5ms/step - loss: 0.6932 - accuracy: 0.5000\n",
            "Test score: 0.6931637525558472\n",
            "Test accuracy: 0.5\n"
          ]
        }
      ],
      "source": [
        "## Prepare the data to use sequences of length 80 rather than length 30. Did it improve the performance?\n",
        "\n",
        "maxlen = 80\n",
        "\n",
        "\n",
        "x_train = sequence.pad_sequences(x_train, maxlen=maxlen)\n",
        "x_test = sequence.pad_sequences(x_test, maxlen=maxlen)\n",
        "\n",
        "\n",
        "rnn_hidden_dim = 5\n",
        "word_embedding_dim = 50\n",
        "model_rnn = Sequential()\n",
        "model_rnn.add(Embedding(max_features, word_embedding_dim))  #This layer takes each integer in the sequence and embeds it in a 50-dimensional vector\n",
        "model_rnn.add(SimpleRNN(rnn_hidden_dim,\n",
        "                    kernel_initializer=initializers.RandomNormal(stddev=0.001),\n",
        "                    recurrent_initializer=initializers.Identity(gain=1.0),\n",
        "                    activation='relu',\n",
        "                    input_shape=x_train.shape[1:]))\n",
        "\n",
        "model_rnn.add(Dense(1, activation='sigmoid'))\n",
        "\n",
        "\n",
        "rmsprop = keras.optimizers.RMSprop(lr = .0001)\n",
        "\n",
        "model_rnn.compile(loss='binary_crossentropy',\n",
        "              optimizer=rmsprop,\n",
        "              metrics=['accuracy'])\n",
        "\n",
        "\n",
        "model_rnn.fit(x_train, y_train,\n",
        "          batch_size=batch_size,\n",
        "          epochs=10,\n",
        "          validation_data=(x_test, y_test))\n",
        "\n",
        "\n",
        "score, acc = model_rnn.evaluate(x_test, y_test,\n",
        "                            batch_size=batch_size)\n",
        "print('Test score:', score)\n",
        "print('Test accuracy:', acc)"
      ]
    },
    {
      "cell_type": "markdown",
      "source": [
        "***The model performed worse than expected, the score and accuracy of the test data went down by a lot, having a score of 69% and an accuracy of 50%***"
      ],
      "metadata": {
        "id": "XcXoawNrzxjw"
      },
      "id": "XcXoawNrzxjw"
    },
    {
      "cell_type": "code",
      "source": [
        "## Try different values of the \"max_features\". Can you improve the performance?\n",
        "\n",
        "maxlen = 30\n",
        "max_features = [20000, 30000, 45000, 50000]\n",
        "performance = [[] for _ in range(len(max_features))]\n",
        "\n",
        "for i in range(len(max_features)):\n",
        "    model_rnn = Sequential()\n",
        "    model_rnn.add(Embedding(max_features[i], word_embedding_dim))  #This layer takes each integer in the sequence and embeds it in a 50-dimensional vector\n",
        "    model_rnn.add(SimpleRNN(rnn_hidden_dim,\n",
        "                        kernel_initializer=initializers.RandomNormal(stddev=0.001),\n",
        "                        recurrent_initializer=initializers.Identity(gain=1.0),\n",
        "                        activation='relu',\n",
        "                        input_shape=x_train.shape[1:]))\n",
        "\n",
        "    model_rnn.add(Dense(1, activation='sigmoid'))\n",
        "\n",
        "\n",
        "    rmsprop = keras.optimizers.RMSprop(lr = .0001)\n",
        "\n",
        "    model_rnn.compile(loss='binary_crossentropy',\n",
        "                  optimizer=rmsprop,\n",
        "                  metrics=['accuracy'])\n",
        "\n",
        "\n",
        "    model_rnn.fit(x_train, y_train,\n",
        "              batch_size=batch_size,\n",
        "              epochs=10,\n",
        "              validation_data=(x_test, y_test))\n",
        "\n",
        "\n",
        "    score, acc = model_rnn.evaluate(x_test, y_test,\n",
        "                                batch_size=batch_size)\n",
        "    print('Test score:', score)\n",
        "    print('Test accuracy:', acc)\n",
        "\n",
        "    performance[i].append(score)\n",
        "    performance[i].append(acc)"
      ],
      "metadata": {
        "id": "dURGt-3K1hs2",
        "colab": {
          "base_uri": "https://localhost:8080/"
        },
        "outputId": "a3011325-ed08-4e42-ced7-b8c50f1ecbcc"
      },
      "id": "dURGt-3K1hs2",
      "execution_count": null,
      "outputs": [
        {
          "metadata": {
            "tags": null
          },
          "name": "stderr",
          "output_type": "stream",
          "text": [
            "WARNING:absl:`lr` is deprecated in Keras optimizer, please use `learning_rate` or use the legacy optimizer, e.g.,tf.keras.optimizers.legacy.RMSprop.\n"
          ]
        },
        {
          "metadata": {
            "tags": null
          },
          "name": "stdout",
          "output_type": "stream",
          "text": [
            "Epoch 1/10\n",
            "782/782 [==============================] - 24s 28ms/step - loss: 0.6120 - accuracy: 0.6537 - val_loss: 0.5052 - val_accuracy: 0.7525\n",
            "Epoch 2/10\n",
            "782/782 [==============================] - 22s 28ms/step - loss: 0.4558 - accuracy: 0.7878 - val_loss: 0.4596 - val_accuracy: 0.7806\n",
            "Epoch 3/10\n",
            "782/782 [==============================] - 21s 26ms/step - loss: 0.4057 - accuracy: 0.8164 - val_loss: 0.4606 - val_accuracy: 0.7782\n",
            "Epoch 4/10\n",
            "782/782 [==============================] - 21s 27ms/step - loss: 0.3834 - accuracy: 0.8300 - val_loss: 0.4513 - val_accuracy: 0.7850\n",
            "Epoch 5/10\n",
            "782/782 [==============================] - 20s 26ms/step - loss: 0.3664 - accuracy: 0.8397 - val_loss: 0.4572 - val_accuracy: 0.7832\n",
            "Epoch 6/10\n",
            "782/782 [==============================] - 21s 27ms/step - loss: 0.3536 - accuracy: 0.8475 - val_loss: 0.4777 - val_accuracy: 0.7781\n",
            "Epoch 7/10\n",
            "782/782 [==============================] - 20s 26ms/step - loss: 0.3422 - accuracy: 0.8542 - val_loss: 0.4564 - val_accuracy: 0.7862\n",
            "Epoch 8/10\n",
            "782/782 [==============================] - 22s 28ms/step - loss: 0.3305 - accuracy: 0.8616 - val_loss: 0.4638 - val_accuracy: 0.7865\n",
            "Epoch 9/10\n",
            "782/782 [==============================] - 20s 25ms/step - loss: 0.3227 - accuracy: 0.8645 - val_loss: 0.4967 - val_accuracy: 0.7762\n",
            "Epoch 10/10\n",
            "782/782 [==============================] - 22s 28ms/step - loss: 0.3129 - accuracy: 0.8715 - val_loss: 0.4810 - val_accuracy: 0.7794\n",
            "782/782 [==============================] - 6s 8ms/step - loss: 0.4810 - accuracy: 0.7794\n"
          ]
        },
        {
          "metadata": {
            "tags": null
          },
          "name": "stderr",
          "output_type": "stream",
          "text": [
            "WARNING:absl:`lr` is deprecated in Keras optimizer, please use `learning_rate` or use the legacy optimizer, e.g.,tf.keras.optimizers.legacy.RMSprop.\n"
          ]
        },
        {
          "metadata": {
            "tags": null
          },
          "name": "stdout",
          "output_type": "stream",
          "text": [
            "Test score: 0.4809817969799042\n",
            "Test accuracy: 0.7794399857521057\n",
            "Epoch 1/10\n",
            "782/782 [==============================] - 29s 36ms/step - loss: 0.6933 - accuracy: 0.4989 - val_loss: 0.6932 - val_accuracy: 0.5000\n",
            "Epoch 2/10\n",
            "782/782 [==============================] - 28s 36ms/step - loss: 0.6932 - accuracy: 0.4994 - val_loss: 0.6932 - val_accuracy: 0.5000\n",
            "Epoch 3/10\n",
            "782/782 [==============================] - 27s 35ms/step - loss: 0.6932 - accuracy: 0.4954 - val_loss: 0.6932 - val_accuracy: 0.5000\n",
            "Epoch 4/10\n",
            "782/782 [==============================] - 27s 34ms/step - loss: 0.6932 - accuracy: 0.4997 - val_loss: 0.6931 - val_accuracy: 0.5000\n",
            "Epoch 5/10\n",
            "782/782 [==============================] - 28s 35ms/step - loss: 0.6932 - accuracy: 0.5015 - val_loss: 0.6932 - val_accuracy: 0.5000\n",
            "Epoch 6/10\n",
            "782/782 [==============================] - 27s 34ms/step - loss: 0.6932 - accuracy: 0.4981 - val_loss: 0.6932 - val_accuracy: 0.5000\n",
            "Epoch 7/10\n",
            "782/782 [==============================] - 27s 34ms/step - loss: 0.6932 - accuracy: 0.5019 - val_loss: 0.6932 - val_accuracy: 0.5000\n",
            "Epoch 8/10\n",
            "782/782 [==============================] - 26s 33ms/step - loss: 0.6932 - accuracy: 0.4990 - val_loss: 0.6932 - val_accuracy: 0.5000\n",
            "Epoch 9/10\n",
            "782/782 [==============================] - 26s 34ms/step - loss: 0.6932 - accuracy: 0.4963 - val_loss: 0.6932 - val_accuracy: 0.5000\n",
            "Epoch 10/10\n",
            "782/782 [==============================] - 28s 35ms/step - loss: 0.6932 - accuracy: 0.4974 - val_loss: 0.6931 - val_accuracy: 0.5000\n",
            "782/782 [==============================] - 5s 6ms/step - loss: 0.6931 - accuracy: 0.5000\n",
            "Test score: 0.6931480765342712\n",
            "Test accuracy: 0.5\n"
          ]
        },
        {
          "metadata": {
            "tags": null
          },
          "name": "stderr",
          "output_type": "stream",
          "text": [
            "WARNING:absl:`lr` is deprecated in Keras optimizer, please use `learning_rate` or use the legacy optimizer, e.g.,tf.keras.optimizers.legacy.RMSprop.\n"
          ]
        },
        {
          "output_type": "stream",
          "name": "stdout",
          "text": [
            "Epoch 1/10\n",
            "782/782 [==============================] - 32s 38ms/step - loss: 0.6295 - accuracy: 0.6563 - val_loss: 0.5651 - val_accuracy: 0.7393\n",
            "Epoch 2/10\n",
            "782/782 [==============================] - 30s 38ms/step - loss: 0.5172 - accuracy: 0.7723 - val_loss: 0.5090 - val_accuracy: 0.7674\n",
            "Epoch 3/10\n",
            "782/782 [==============================] - 29s 38ms/step - loss: 0.4542 - accuracy: 0.8038 - val_loss: 0.4634 - val_accuracy: 0.7802\n",
            "Epoch 4/10\n",
            "782/782 [==============================] - 29s 38ms/step - loss: 0.4033 - accuracy: 0.8198 - val_loss: 0.4823 - val_accuracy: 0.7752\n",
            "Epoch 5/10\n",
            "782/782 [==============================] - 36s 46ms/step - loss: 0.3790 - accuracy: 0.8336 - val_loss: 0.4749 - val_accuracy: 0.7779\n",
            "Epoch 6/10\n",
            "782/782 [==============================] - 31s 40ms/step - loss: 0.3625 - accuracy: 0.8422 - val_loss: 0.4632 - val_accuracy: 0.7853\n",
            "Epoch 7/10\n",
            "782/782 [==============================] - 40s 51ms/step - loss: 0.3464 - accuracy: 0.8522 - val_loss: 0.4751 - val_accuracy: 0.7853\n",
            "Epoch 8/10\n",
            "782/782 [==============================] - 33s 42ms/step - loss: 0.3299 - accuracy: 0.8603 - val_loss: 0.4586 - val_accuracy: 0.7880\n",
            "Epoch 9/10\n",
            "782/782 [==============================] - 33s 42ms/step - loss: 0.3145 - accuracy: 0.8692 - val_loss: 0.5347 - val_accuracy: 0.7710\n",
            "Epoch 10/10\n",
            "782/782 [==============================] - 31s 39ms/step - loss: 0.2999 - accuracy: 0.8757 - val_loss: 0.4778 - val_accuracy: 0.7842\n",
            "782/782 [==============================] - 6s 8ms/step - loss: 0.4778 - accuracy: 0.7842\n",
            "Test score: 0.47775065898895264\n",
            "Test accuracy: 0.7842400074005127\n"
          ]
        },
        {
          "output_type": "stream",
          "name": "stderr",
          "text": [
            "WARNING:absl:`lr` is deprecated in Keras optimizer, please use `learning_rate` or use the legacy optimizer, e.g.,tf.keras.optimizers.legacy.RMSprop.\n"
          ]
        },
        {
          "output_type": "stream",
          "name": "stdout",
          "text": [
            "Epoch 1/10\n",
            "782/782 [==============================] - 34s 41ms/step - loss: 0.6163 - accuracy: 0.6697 - val_loss: 0.5801 - val_accuracy: 0.7207\n",
            "Epoch 2/10\n",
            "782/782 [==============================] - 32s 41ms/step - loss: 0.5093 - accuracy: 0.7764 - val_loss: 0.5052 - val_accuracy: 0.7685\n",
            "Epoch 3/10\n",
            "782/782 [==============================] - 32s 41ms/step - loss: 0.4557 - accuracy: 0.8016 - val_loss: 0.4884 - val_accuracy: 0.7758\n",
            "Epoch 4/10\n",
            "782/782 [==============================] - 31s 40ms/step - loss: 0.4212 - accuracy: 0.8183 - val_loss: 0.5006 - val_accuracy: 0.7704\n",
            "Epoch 5/10\n",
            "782/782 [==============================] - 34s 43ms/step - loss: 0.3949 - accuracy: 0.8328 - val_loss: 0.4687 - val_accuracy: 0.7838\n",
            "Epoch 6/10\n",
            "782/782 [==============================] - 31s 40ms/step - loss: 0.3699 - accuracy: 0.8457 - val_loss: 0.4774 - val_accuracy: 0.7804\n",
            "Epoch 7/10\n",
            "782/782 [==============================] - 32s 40ms/step - loss: 0.3501 - accuracy: 0.8536 - val_loss: 0.4855 - val_accuracy: 0.7796\n",
            "Epoch 8/10\n",
            "782/782 [==============================] - 32s 42ms/step - loss: 0.3322 - accuracy: 0.8666 - val_loss: 0.5502 - val_accuracy: 0.7701\n",
            "Epoch 9/10\n",
            "782/782 [==============================] - 33s 42ms/step - loss: 0.3162 - accuracy: 0.8747 - val_loss: 0.5222 - val_accuracy: 0.7551\n",
            "Epoch 10/10\n",
            "782/782 [==============================] - 32s 41ms/step - loss: 0.3014 - accuracy: 0.8813 - val_loss: 0.5039 - val_accuracy: 0.7698\n",
            "782/782 [==============================] - 5s 6ms/step - loss: 0.5039 - accuracy: 0.7698\n",
            "Test score: 0.5039026737213135\n",
            "Test accuracy: 0.7698000073432922\n"
          ]
        }
      ]
    },
    {
      "cell_type": "code",
      "source": [
        "performance"
      ],
      "metadata": {
        "id": "PDwuNLqZ5JjJ",
        "colab": {
          "base_uri": "https://localhost:8080/"
        },
        "outputId": "25d9ef7f-c376-4a3a-c27e-b8dcc2bfaea3"
      },
      "id": "PDwuNLqZ5JjJ",
      "execution_count": null,
      "outputs": [
        {
          "output_type": "execute_result",
          "data": {
            "text/plain": [
              "[[0.4809817969799042, 0.7794399857521057],\n",
              " [0.6931480765342712, 0.5],\n",
              " [0.47775065898895264, 0.7842400074005127],\n",
              " [0.5039026737213135, 0.7698000073432922]]"
            ]
          },
          "metadata": {},
          "execution_count": 12
        }
      ]
    },
    {
      "cell_type": "markdown",
      "source": [
        "***There were no imporvements with the accuracy of the model, it did not increase when the features increased***"
      ],
      "metadata": {
        "id": "rTwxr4j9-bLD"
      },
      "id": "rTwxr4j9-bLD"
    },
    {
      "cell_type": "code",
      "source": [
        "import time"
      ],
      "metadata": {
        "id": "OPkKDXGIFls2"
      },
      "id": "OPkKDXGIFls2",
      "execution_count": null,
      "outputs": []
    },
    {
      "cell_type": "code",
      "source": [
        "## Try smaller and larger sizes of the RNN hidden dimension. How does it affect the model performance? How does it affect the run time?\n",
        "\n",
        "max_features = 45000\n",
        "maxlen = 80\n",
        "\n",
        "\n",
        "rnn_hidden_dim = [5, 15, 30, 50, 100]\n",
        "word_embedding_dim = 50\n",
        "\n",
        "performance = [[] for _ in range(len(rnn_hidden_dim))]\n",
        "\n",
        "for i in range(len(rnn_hidden_dim)):\n",
        "    model_rnn = Sequential()\n",
        "    model_rnn.add(Embedding(max_features, word_embedding_dim))  #This layer takes each integer in the sequence and embeds it in a 50-dimensional vector\n",
        "    model_rnn.add(SimpleRNN(rnn_hidden_dim[i],\n",
        "                        kernel_initializer=initializers.RandomNormal(stddev=0.001),\n",
        "                        recurrent_initializer=initializers.Identity(gain=1.0),\n",
        "                        activation='relu',\n",
        "                        input_shape=x_train.shape[1:]))\n",
        "\n",
        "    model_rnn.add(Dense(1, activation='sigmoid'))\n",
        "\n",
        "\n",
        "    rmsprop = keras.optimizers.RMSprop(lr = .0001)\n",
        "\n",
        "    model_rnn.compile(loss='binary_crossentropy',\n",
        "                  optimizer=rmsprop,\n",
        "                  metrics=['accuracy'])\n",
        "\n",
        "\n",
        "    start = time.time()\n",
        "\n",
        "    model_rnn.fit(x_train, y_train,\n",
        "              batch_size=batch_size,\n",
        "              epochs=10,\n",
        "              validation_data=(x_test, y_test))\n",
        "\n",
        "    end = time.time()\n",
        "\n",
        "\n",
        "    score, acc = model_rnn.evaluate(x_test, y_test,\n",
        "                                batch_size=batch_size)\n",
        "    print('Test score:', score)\n",
        "    print('Test accuracy:', acc)\n",
        "\n",
        "    elapsed = end - start\n",
        "\n",
        "    performance[i].append(score)\n",
        "    performance[i].append(acc)\n",
        "    performance[i].append(elapsed)"
      ],
      "metadata": {
        "id": "L_aEa-Y5E7tS",
        "colab": {
          "base_uri": "https://localhost:8080/"
        },
        "outputId": "23871586-e565-4ade-a91a-869a26cfc9fa"
      },
      "id": "L_aEa-Y5E7tS",
      "execution_count": null,
      "outputs": [
        {
          "output_type": "stream",
          "name": "stderr",
          "text": [
            "WARNING:absl:`lr` is deprecated in Keras optimizer, please use `learning_rate` or use the legacy optimizer, e.g.,tf.keras.optimizers.legacy.RMSprop.\n"
          ]
        },
        {
          "output_type": "stream",
          "name": "stdout",
          "text": [
            "Epoch 1/10\n",
            "782/782 [==============================] - 32s 40ms/step - loss: 0.6369 - accuracy: 0.6268 - val_loss: 0.5630 - val_accuracy: 0.7472\n",
            "Epoch 2/10\n",
            "782/782 [==============================] - 37s 48ms/step - loss: 0.5011 - accuracy: 0.7765 - val_loss: 0.4893 - val_accuracy: 0.7639\n",
            "Epoch 3/10\n",
            "782/782 [==============================] - 31s 40ms/step - loss: 0.4132 - accuracy: 0.8131 - val_loss: 0.4474 - val_accuracy: 0.7870\n",
            "Epoch 4/10\n",
            "782/782 [==============================] - 30s 38ms/step - loss: 0.3796 - accuracy: 0.8319 - val_loss: 0.4503 - val_accuracy: 0.7888\n",
            "Epoch 5/10\n",
            "782/782 [==============================] - 29s 37ms/step - loss: 0.3570 - accuracy: 0.8438 - val_loss: 0.4534 - val_accuracy: 0.7873\n",
            "Epoch 6/10\n",
            "782/782 [==============================] - 31s 40ms/step - loss: 0.3401 - accuracy: 0.8524 - val_loss: 0.4446 - val_accuracy: 0.7913\n",
            "Epoch 7/10\n",
            "782/782 [==============================] - 31s 39ms/step - loss: 0.3239 - accuracy: 0.8635 - val_loss: 0.4599 - val_accuracy: 0.7905\n",
            "Epoch 8/10\n",
            "782/782 [==============================] - 30s 39ms/step - loss: 0.3102 - accuracy: 0.8715 - val_loss: 0.4792 - val_accuracy: 0.7868\n",
            "Epoch 9/10\n",
            "782/782 [==============================] - 29s 38ms/step - loss: 0.2943 - accuracy: 0.8774 - val_loss: 0.4965 - val_accuracy: 0.7752\n",
            "Epoch 10/10\n",
            "782/782 [==============================] - 30s 38ms/step - loss: 0.2805 - accuracy: 0.8863 - val_loss: 0.4843 - val_accuracy: 0.7860\n",
            "782/782 [==============================] - 5s 6ms/step - loss: 0.4843 - accuracy: 0.7860\n"
          ]
        },
        {
          "output_type": "stream",
          "name": "stderr",
          "text": [
            "WARNING:absl:`lr` is deprecated in Keras optimizer, please use `learning_rate` or use the legacy optimizer, e.g.,tf.keras.optimizers.legacy.RMSprop.\n"
          ]
        },
        {
          "output_type": "stream",
          "name": "stdout",
          "text": [
            "Test score: 0.4842817187309265\n",
            "Test accuracy: 0.7859600186347961\n",
            "Epoch 1/10\n",
            "782/782 [==============================] - 30s 36ms/step - loss: 0.5383 - accuracy: 0.7158 - val_loss: 0.4550 - val_accuracy: 0.7812\n",
            "Epoch 2/10\n",
            "782/782 [==============================] - 28s 35ms/step - loss: 0.4100 - accuracy: 0.8106 - val_loss: 0.4404 - val_accuracy: 0.7904\n",
            "Epoch 3/10\n",
            "782/782 [==============================] - 32s 41ms/step - loss: 0.3752 - accuracy: 0.8319 - val_loss: 0.4369 - val_accuracy: 0.7915\n",
            "Epoch 4/10\n",
            "782/782 [==============================] - 29s 37ms/step - loss: 0.3510 - accuracy: 0.8449 - val_loss: 0.4592 - val_accuracy: 0.7875\n",
            "Epoch 5/10\n",
            "782/782 [==============================] - 29s 37ms/step - loss: 0.3324 - accuracy: 0.8554 - val_loss: 0.4714 - val_accuracy: 0.7855\n",
            "Epoch 6/10\n",
            "782/782 [==============================] - 31s 39ms/step - loss: 0.3139 - accuracy: 0.8659 - val_loss: 0.4496 - val_accuracy: 0.7912\n",
            "Epoch 7/10\n",
            "782/782 [==============================] - 28s 36ms/step - loss: 0.2967 - accuracy: 0.8754 - val_loss: 0.4843 - val_accuracy: 0.7888\n",
            "Epoch 8/10\n",
            "782/782 [==============================] - 28s 36ms/step - loss: 0.2819 - accuracy: 0.8835 - val_loss: 0.4954 - val_accuracy: 0.7852\n",
            "Epoch 9/10\n",
            "782/782 [==============================] - 28s 36ms/step - loss: 0.2649 - accuracy: 0.8918 - val_loss: 0.5520 - val_accuracy: 0.7762\n",
            "Epoch 10/10\n",
            "782/782 [==============================] - 33s 42ms/step - loss: 0.2502 - accuracy: 0.8998 - val_loss: 0.5034 - val_accuracy: 0.7836\n",
            "782/782 [==============================] - 6s 8ms/step - loss: 0.5034 - accuracy: 0.7836\n",
            "Test score: 0.5034387707710266\n",
            "Test accuracy: 0.7836400270462036\n"
          ]
        },
        {
          "output_type": "stream",
          "name": "stderr",
          "text": [
            "WARNING:absl:`lr` is deprecated in Keras optimizer, please use `learning_rate` or use the legacy optimizer, e.g.,tf.keras.optimizers.legacy.RMSprop.\n"
          ]
        },
        {
          "output_type": "stream",
          "name": "stdout",
          "text": [
            "Epoch 1/10\n",
            "782/782 [==============================] - 31s 38ms/step - loss: 0.5556 - accuracy: 0.7049 - val_loss: 0.4601 - val_accuracy: 0.7820\n",
            "Epoch 2/10\n",
            "782/782 [==============================] - 30s 39ms/step - loss: 0.4202 - accuracy: 0.8061 - val_loss: 0.4468 - val_accuracy: 0.7903\n",
            "Epoch 3/10\n",
            "782/782 [==============================] - 30s 39ms/step - loss: 0.3806 - accuracy: 0.8280 - val_loss: 0.4341 - val_accuracy: 0.7929\n",
            "Epoch 4/10\n",
            "782/782 [==============================] - 31s 40ms/step - loss: 0.3551 - accuracy: 0.8460 - val_loss: 0.4604 - val_accuracy: 0.7868\n",
            "Epoch 5/10\n",
            "782/782 [==============================] - 30s 39ms/step - loss: 0.3349 - accuracy: 0.8552 - val_loss: 0.4523 - val_accuracy: 0.7918\n",
            "Epoch 6/10\n",
            "782/782 [==============================] - 31s 40ms/step - loss: 0.3139 - accuracy: 0.8665 - val_loss: 0.4617 - val_accuracy: 0.7874\n",
            "Epoch 7/10\n",
            "782/782 [==============================] - 39s 50ms/step - loss: 0.2924 - accuracy: 0.8794 - val_loss: 0.5284 - val_accuracy: 0.7650\n",
            "Epoch 8/10\n",
            "782/782 [==============================] - 34s 44ms/step - loss: 0.2717 - accuracy: 0.8904 - val_loss: 0.5085 - val_accuracy: 0.7722\n",
            "Epoch 9/10\n",
            "782/782 [==============================] - 30s 38ms/step - loss: 0.2519 - accuracy: 0.8983 - val_loss: 0.5064 - val_accuracy: 0.7738\n",
            "Epoch 10/10\n",
            "782/782 [==============================] - 34s 44ms/step - loss: 0.2323 - accuracy: 0.9087 - val_loss: 0.5560 - val_accuracy: 0.7732\n",
            "782/782 [==============================] - 6s 8ms/step - loss: 0.5560 - accuracy: 0.7732\n"
          ]
        },
        {
          "output_type": "stream",
          "name": "stderr",
          "text": [
            "WARNING:absl:`lr` is deprecated in Keras optimizer, please use `learning_rate` or use the legacy optimizer, e.g.,tf.keras.optimizers.legacy.RMSprop.\n"
          ]
        },
        {
          "output_type": "stream",
          "name": "stdout",
          "text": [
            "Test score: 0.5559675097465515\n",
            "Test accuracy: 0.7731999754905701\n",
            "Epoch 1/10\n",
            "782/782 [==============================] - 32s 40ms/step - loss: 0.5500 - accuracy: 0.7120 - val_loss: 0.4767 - val_accuracy: 0.7717\n",
            "Epoch 2/10\n",
            "782/782 [==============================] - 36s 47ms/step - loss: 0.4107 - accuracy: 0.8090 - val_loss: 0.4535 - val_accuracy: 0.7861\n",
            "Epoch 3/10\n",
            "782/782 [==============================] - 34s 43ms/step - loss: 0.3725 - accuracy: 0.8333 - val_loss: 0.4327 - val_accuracy: 0.7922\n",
            "Epoch 4/10\n",
            "782/782 [==============================] - 37s 47ms/step - loss: 0.3485 - accuracy: 0.8476 - val_loss: 0.5118 - val_accuracy: 0.7746\n",
            "Epoch 5/10\n",
            "782/782 [==============================] - 31s 40ms/step - loss: 0.3220 - accuracy: 0.8622 - val_loss: 0.5103 - val_accuracy: 0.7666\n",
            "Epoch 6/10\n",
            "782/782 [==============================] - 37s 47ms/step - loss: 0.2984 - accuracy: 0.8743 - val_loss: 0.5037 - val_accuracy: 0.7883\n",
            "Epoch 7/10\n",
            "782/782 [==============================] - 31s 40ms/step - loss: 0.2760 - accuracy: 0.8852 - val_loss: 0.5040 - val_accuracy: 0.7844\n",
            "Epoch 8/10\n",
            "782/782 [==============================] - 32s 41ms/step - loss: 0.2589 - accuracy: 0.8960 - val_loss: 0.4784 - val_accuracy: 0.7838\n",
            "Epoch 9/10\n",
            "782/782 [==============================] - 31s 40ms/step - loss: 0.2347 - accuracy: 0.9089 - val_loss: 0.5221 - val_accuracy: 0.7798\n",
            "Epoch 10/10\n",
            "782/782 [==============================] - 31s 40ms/step - loss: 0.2171 - accuracy: 0.9163 - val_loss: 0.6201 - val_accuracy: 0.7714\n",
            "782/782 [==============================] - 7s 8ms/step - loss: 0.6201 - accuracy: 0.7714\n"
          ]
        },
        {
          "output_type": "stream",
          "name": "stderr",
          "text": [
            "WARNING:absl:`lr` is deprecated in Keras optimizer, please use `learning_rate` or use the legacy optimizer, e.g.,tf.keras.optimizers.legacy.RMSprop.\n"
          ]
        },
        {
          "output_type": "stream",
          "name": "stdout",
          "text": [
            "Test score: 0.6200658082962036\n",
            "Test accuracy: 0.771399974822998\n",
            "Epoch 1/10\n",
            "782/782 [==============================] - 45s 56ms/step - loss: 0.5658 - accuracy: 0.6984 - val_loss: 0.4778 - val_accuracy: 0.7656\n",
            "Epoch 2/10\n",
            "782/782 [==============================] - 37s 47ms/step - loss: 0.4194 - accuracy: 0.8060 - val_loss: 0.4622 - val_accuracy: 0.7796\n",
            "Epoch 3/10\n",
            "782/782 [==============================] - 36s 46ms/step - loss: 0.3775 - accuracy: 0.8313 - val_loss: 0.4354 - val_accuracy: 0.7936\n",
            "Epoch 4/10\n",
            "782/782 [==============================] - 36s 47ms/step - loss: 0.3495 - accuracy: 0.8442 - val_loss: 0.4942 - val_accuracy: 0.7642\n",
            "Epoch 5/10\n",
            "782/782 [==============================] - 40s 52ms/step - loss: 0.3226 - accuracy: 0.8597 - val_loss: 0.5210 - val_accuracy: 0.7678\n",
            "Epoch 6/10\n",
            "782/782 [==============================] - 40s 52ms/step - loss: 0.2956 - accuracy: 0.8758 - val_loss: 0.5047 - val_accuracy: 0.7882\n",
            "Epoch 7/10\n",
            "782/782 [==============================] - 37s 48ms/step - loss: 0.2733 - accuracy: 0.8894 - val_loss: 0.4852 - val_accuracy: 0.7839\n",
            "Epoch 8/10\n",
            "782/782 [==============================] - 41s 52ms/step - loss: 0.2510 - accuracy: 0.9026 - val_loss: 0.5055 - val_accuracy: 0.7782\n",
            "Epoch 9/10\n",
            "782/782 [==============================] - 36s 46ms/step - loss: 0.2236 - accuracy: 0.9126 - val_loss: 0.7744 - val_accuracy: 0.7535\n",
            "Epoch 10/10\n",
            "782/782 [==============================] - 38s 48ms/step - loss: 0.5192 - accuracy: 0.9221 - val_loss: 0.5652 - val_accuracy: 0.7728\n",
            "782/782 [==============================] - 7s 9ms/step - loss: 0.5652 - accuracy: 0.7728\n",
            "Test score: 0.5652428269386292\n",
            "Test accuracy: 0.7727599740028381\n"
          ]
        }
      ]
    },
    {
      "cell_type": "code",
      "source": [
        "performance"
      ],
      "metadata": {
        "id": "2R49IOn_G-Et",
        "colab": {
          "base_uri": "https://localhost:8080/"
        },
        "outputId": "0e06cb89-235a-4fc1-e11d-8776f8da5fa6"
      },
      "id": "2R49IOn_G-Et",
      "execution_count": null,
      "outputs": [
        {
          "output_type": "execute_result",
          "data": {
            "text/plain": [
              "[[0.4842817187309265, 0.7859600186347961, 311.0640711784363],\n",
              " [0.5034387707710266, 0.7836400270462036, 323.3797175884247],\n",
              " [0.5559675097465515, 0.7731999754905701, 323.20440125465393],\n",
              " [0.6200658082962036, 0.771399974822998, 333.7363033294678],\n",
              " [0.5652428269386292, 0.7727599740028381, 443.1918225288391]]"
            ]
          },
          "metadata": {},
          "execution_count": 17
        }
      ]
    },
    {
      "cell_type": "markdown",
      "id": "limiting-bachelor",
      "metadata": {
        "id": "limiting-bachelor"
      },
      "source": [
        "***Accuracy of the model did not increased any further on the 2nd iteration, which was the same as the `max_features` variable***"
      ]
    },
    {
      "cell_type": "markdown",
      "id": "signal-federal",
      "metadata": {
        "id": "signal-federal"
      },
      "source": [
        "# Conclusion"
      ]
    },
    {
      "cell_type": "markdown",
      "id": "interpreted-stadium",
      "metadata": {
        "id": "interpreted-stadium"
      },
      "source": [
        "***During the activity I gained a bit of understanding of what Recurent Neural networks (RNN) are. RNNs like LSTMs are able to remember past data and recognize patterns however they are limited to long-term dependencies as gradients vanish over time. When I trained the model by increasing and playing around with the `max_features`, `max_len`, `hidden_features`, the accuracy of the model failed to increase much further, while the score of the model increased but it will not be enough to say that the model will be able to perform well when predicting unseen data.***"
      ]
    }
  ],
  "metadata": {
    "kernelspec": {
      "display_name": "Python 3",
      "name": "python3"
    },
    "language_info": {
      "codemirror_mode": {
        "name": "ipython",
        "version": 3
      },
      "file_extension": ".py",
      "mimetype": "text/x-python",
      "name": "python",
      "nbconvert_exporter": "python",
      "pygments_lexer": "ipython3",
      "version": "3.7.10"
    },
    "colab": {
      "provenance": []
    }
  },
  "nbformat": 4,
  "nbformat_minor": 5
}