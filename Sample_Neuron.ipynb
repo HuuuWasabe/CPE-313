{
  "nbformat": 4,
  "nbformat_minor": 0,
  "metadata": {
    "colab": {
      "provenance": []
    },
    "kernelspec": {
      "name": "python3",
      "display_name": "Python 3"
    },
    "language_info": {
      "name": "python"
    }
  },
  "cells": [
    {
      "cell_type": "code",
      "execution_count": 85,
      "metadata": {
        "id": "5KP7BRMRKpJi"
      },
      "outputs": [],
      "source": [
        "class Neurons:\n",
        "  def __init__(self, inputs, weights):\n",
        "    self.inputs = inputs\n",
        "    self.weights = weights\n",
        "\n",
        "  def sum_of_weights(self):\n",
        "    return sum([self.inputs[x] * self.weights[x] for x in range(len(self.weights))])\n",
        "\n",
        "  def relu(self, x):\n",
        "    return max(0.0, x)"
      ]
    },
    {
      "cell_type": "code",
      "source": [
        "import numpy as np\n",
        "w = np.linspace(-2, -1, 5)\n",
        "inp = np.linspace(0, 1, 5)\n",
        "\n",
        "w, inp"
      ],
      "metadata": {
        "colab": {
          "base_uri": "https://localhost:8080/",
          "height": 0
        },
        "id": "KhFGKVQhMSRn",
        "outputId": "045d4747-0765-4f3b-f481-6e917c3b6a7b"
      },
      "execution_count": 104,
      "outputs": [
        {
          "output_type": "execute_result",
          "data": {
            "text/plain": [
              "(array([-2.  , -1.75, -1.5 , -1.25, -1.  ]),\n",
              " array([0.  , 0.25, 0.5 , 0.75, 1.  ]))"
            ]
          },
          "metadata": {},
          "execution_count": 104
        }
      ]
    },
    {
      "cell_type": "code",
      "source": [
        "max(0.0, sum([inp[x] * w[x] for x in range(len(w))]))"
      ],
      "metadata": {
        "colab": {
          "base_uri": "https://localhost:8080/",
          "height": 0
        },
        "id": "fNmpkoViQZ_d",
        "outputId": "e37dd1df-6a6a-41ab-9cab-0bfb22030d97"
      },
      "execution_count": 105,
      "outputs": [
        {
          "output_type": "execute_result",
          "data": {
            "text/plain": [
              "0.0"
            ]
          },
          "metadata": {},
          "execution_count": 105
        }
      ]
    },
    {
      "cell_type": "code",
      "source": [
        "my_obj = Neurons(inp, w)\n",
        "result = my_obj.relu(my_obj.sum_of_weights())\n",
        "result"
      ],
      "metadata": {
        "colab": {
          "base_uri": "https://localhost:8080/",
          "height": 0
        },
        "id": "vvqCagsdMlE3",
        "outputId": "c9144760-e8dd-47c0-ba5a-d53920210d52"
      },
      "execution_count": 106,
      "outputs": [
        {
          "output_type": "execute_result",
          "data": {
            "text/plain": [
              "0.0"
            ]
          },
          "metadata": {},
          "execution_count": 106
        }
      ]
    }
  ]
}