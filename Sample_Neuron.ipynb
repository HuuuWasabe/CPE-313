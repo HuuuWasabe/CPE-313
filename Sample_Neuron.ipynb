{
  "nbformat": 4,
  "nbformat_minor": 0,
  "metadata": {
    "colab": {
      "provenance": []
    },
    "kernelspec": {
      "name": "python3",
      "display_name": "Python 3"
    },
    "language_info": {
      "name": "python"
    }
  },
  "cells": [
    {
      "cell_type": "code",
      "execution_count": 107,
      "metadata": {
        "id": "5KP7BRMRKpJi"
      },
      "outputs": [],
      "source": [
        "class Neurons:\n",
        "  def __init__(self, inputs, weights):\n",
        "    self.inputs = inputs\n",
        "    self.weights = weights\n",
        "\n",
        "  def sum_of_weights(self):\n",
        "    return sum([self.inputs[x] * self.weights[x] for x in range(len(self.weights))])\n",
        "\n",
        "  def relu(self, x):\n",
        "    return 0.0 if x <= 0 else x"
      ]
    },
    {
      "cell_type": "code",
      "source": [
        "import numpy as np\n",
        "w = np.linspace(-2, -1, 5)\n",
        "inp = np.linspace(0, 1, 5)\n",
        "\n",
        "w, inp"
      ],
      "metadata": {
        "colab": {
          "base_uri": "https://localhost:8080/"
        },
        "id": "KhFGKVQhMSRn",
        "outputId": "7705fec6-713b-4025-9c20-96e9f37918a0"
      },
      "execution_count": 108,
      "outputs": [
        {
          "output_type": "execute_result",
          "data": {
            "text/plain": [
              "(array([-2.  , -1.75, -1.5 , -1.25, -1.  ]),\n",
              " array([0.  , 0.25, 0.5 , 0.75, 1.  ]))"
            ]
          },
          "metadata": {},
          "execution_count": 108
        }
      ]
    },
    {
      "cell_type": "code",
      "source": [
        "max(0.0, sum([inp[x] * w[x] for x in range(len(w))]))"
      ],
      "metadata": {
        "colab": {
          "base_uri": "https://localhost:8080/"
        },
        "id": "fNmpkoViQZ_d",
        "outputId": "b751f786-2a11-4b74-a09c-4508efe3d4aa"
      },
      "execution_count": 109,
      "outputs": [
        {
          "output_type": "execute_result",
          "data": {
            "text/plain": [
              "0.0"
            ]
          },
          "metadata": {},
          "execution_count": 109
        }
      ]
    },
    {
      "cell_type": "code",
      "source": [
        "my_obj = Neurons(inp, w)\n",
        "result = my_obj.relu(my_obj.sum_of_weights())\n",
        "result"
      ],
      "metadata": {
        "colab": {
          "base_uri": "https://localhost:8080/"
        },
        "id": "vvqCagsdMlE3",
        "outputId": "a53f9d58-01d0-4d1a-9441-38ea643f442a"
      },
      "execution_count": 110,
      "outputs": [
        {
          "output_type": "execute_result",
          "data": {
            "text/plain": [
              "0.0"
            ]
          },
          "metadata": {},
          "execution_count": 110
        }
      ]
    }
  ]
}